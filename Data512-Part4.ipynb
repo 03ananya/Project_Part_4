{
 "cells": [
  {
   "cell_type": "markdown",
   "id": "ea2e7724",
   "metadata": {},
   "source": [
    "# Project Part 4"
   ]
  },
  {
   "cell_type": "markdown",
   "id": "997d1d4c",
   "metadata": {},
   "source": [
    "## Research questions:\n",
    "\n",
    "1. How was unemployment affected by the covid induced pandemic? \n",
    "2. What was the relationship between the number of covid cases and the unemployment insurance claims in Harris County\n",
    "\n",
    "The research questions for this analysis have been answered using a combination of analytical methods. The first step of the analysis is to standardize all the 3 datasets into monthly data by aggregating the base data and the weekly insurance claims.\n"
   ]
  },
  {
   "cell_type": "markdown",
   "id": "af0dfa27",
   "metadata": {},
   "source": [
    "### First we install all requitred dependencies\n",
    "Import necessary packages"
   ]
  },
  {
   "cell_type": "markdown",
   "id": "be662c4e",
   "metadata": {},
   "source": [
    "#### pip install ruptures"
   ]
  },
  {
   "cell_type": "code",
   "execution_count": 153,
   "id": "58ced934",
   "metadata": {},
   "outputs": [],
   "source": [
    "import pandas as pd\n",
    "import numpy as np\n",
    "import seaborn as sns\n",
    "import matplotlib\n",
    "import matplotlib.pyplot as plt\n",
    "from matplotlib.pyplot import figure\n",
    "import seaborn\n",
    "import matplotlib.dates as mdates\n",
    "from matplotlib.ticker import (MultipleLocator, FormatStrFormatter,\n",
    "                               AutoMinorLocator)\n",
    "import ruptures as rpt\n",
    "import warnings\n",
    "warnings.filterwarnings('ignore')"
   ]
  },
  {
   "cell_type": "markdown",
   "id": "e51005af",
   "metadata": {},
   "source": [
    "### Assumptions made for the analysis:\n",
    "1. confirmed cases = total infection\n",
    "2. mask mandates null does not mean there is no making policy in place.   We impute it as unknown\n",
    "       \n",
    "Population :\n",
    "    April 20 : 4,731,145\n",
    "    July 21 :  4,728,030"
   ]
  },
  {
   "cell_type": "markdown",
   "id": "56aae180",
   "metadata": {},
   "source": [
    "## Reading data from the given files"
   ]
  },
  {
   "cell_type": "code",
   "execution_count": 154,
   "id": "fb3da8ce",
   "metadata": {},
   "outputs": [],
   "source": [
    "conf_cases = pd.read_csv(\"RAW_us_confirmed_cases.csv\")\n",
    "mask_use_by_county = pd.read_csv(\"mask-use-by-county.csv\")\n",
    "mm = pd.read_csv(\"U.S._State_and_Territorial_Public_Mask_Mandates_From_April_10__2020_through_August_15__2021_by_County_by_Day.csv\")\n",
    "\n",
    "#Additional data for part 3 analysis \n",
    "unemp= pd.read_csv(\"UNRATE.csv\")\n",
    "claims= pd.read_csv(\"claims.csv\")"
   ]
  },
  {
   "cell_type": "code",
   "execution_count": 155,
   "id": "1f1748eb",
   "metadata": {},
   "outputs": [
    {
     "data": {
      "text/html": [
       "<div>\n",
       "<style scoped>\n",
       "    .dataframe tbody tr th:only-of-type {\n",
       "        vertical-align: middle;\n",
       "    }\n",
       "\n",
       "    .dataframe tbody tr th {\n",
       "        vertical-align: top;\n",
       "    }\n",
       "\n",
       "    .dataframe thead th {\n",
       "        text-align: right;\n",
       "    }\n",
       "</style>\n",
       "<table border=\"1\" class=\"dataframe\">\n",
       "  <thead>\n",
       "    <tr style=\"text-align: right;\">\n",
       "      <th></th>\n",
       "      <th>Province_State</th>\n",
       "      <th>Admin2</th>\n",
       "      <th>UID</th>\n",
       "      <th>iso2</th>\n",
       "      <th>iso3</th>\n",
       "      <th>code3</th>\n",
       "      <th>FIPS</th>\n",
       "      <th>Country_Region</th>\n",
       "      <th>Lat</th>\n",
       "      <th>Long_</th>\n",
       "      <th>...</th>\n",
       "      <th>10/22/22</th>\n",
       "      <th>10/23/22</th>\n",
       "      <th>10/24/22</th>\n",
       "      <th>10/25/22</th>\n",
       "      <th>10/26/22</th>\n",
       "      <th>10/27/22</th>\n",
       "      <th>10/28/22</th>\n",
       "      <th>10/29/22</th>\n",
       "      <th>10/30/22</th>\n",
       "      <th>10/31/22</th>\n",
       "    </tr>\n",
       "  </thead>\n",
       "  <tbody>\n",
       "    <tr>\n",
       "      <th>0</th>\n",
       "      <td>Alabama</td>\n",
       "      <td>Autauga</td>\n",
       "      <td>84001001</td>\n",
       "      <td>US</td>\n",
       "      <td>USA</td>\n",
       "      <td>840</td>\n",
       "      <td>1001.0</td>\n",
       "      <td>US</td>\n",
       "      <td>32.539527</td>\n",
       "      <td>-86.644082</td>\n",
       "      <td>...</td>\n",
       "      <td>18480</td>\n",
       "      <td>18480</td>\n",
       "      <td>18480</td>\n",
       "      <td>18480</td>\n",
       "      <td>18480</td>\n",
       "      <td>18511</td>\n",
       "      <td>18511</td>\n",
       "      <td>18511</td>\n",
       "      <td>18511</td>\n",
       "      <td>18511</td>\n",
       "    </tr>\n",
       "    <tr>\n",
       "      <th>1</th>\n",
       "      <td>Alabama</td>\n",
       "      <td>Baldwin</td>\n",
       "      <td>84001003</td>\n",
       "      <td>US</td>\n",
       "      <td>USA</td>\n",
       "      <td>840</td>\n",
       "      <td>1003.0</td>\n",
       "      <td>US</td>\n",
       "      <td>30.727750</td>\n",
       "      <td>-87.722071</td>\n",
       "      <td>...</td>\n",
       "      <td>65895</td>\n",
       "      <td>65895</td>\n",
       "      <td>65895</td>\n",
       "      <td>65895</td>\n",
       "      <td>65895</td>\n",
       "      <td>65973</td>\n",
       "      <td>65973</td>\n",
       "      <td>65973</td>\n",
       "      <td>65973</td>\n",
       "      <td>65973</td>\n",
       "    </tr>\n",
       "    <tr>\n",
       "      <th>2</th>\n",
       "      <td>Alabama</td>\n",
       "      <td>Barbour</td>\n",
       "      <td>84001005</td>\n",
       "      <td>US</td>\n",
       "      <td>USA</td>\n",
       "      <td>840</td>\n",
       "      <td>1005.0</td>\n",
       "      <td>US</td>\n",
       "      <td>31.868263</td>\n",
       "      <td>-85.387129</td>\n",
       "      <td>...</td>\n",
       "      <td>6926</td>\n",
       "      <td>6926</td>\n",
       "      <td>6926</td>\n",
       "      <td>6926</td>\n",
       "      <td>6926</td>\n",
       "      <td>6930</td>\n",
       "      <td>6930</td>\n",
       "      <td>6930</td>\n",
       "      <td>6930</td>\n",
       "      <td>6930</td>\n",
       "    </tr>\n",
       "    <tr>\n",
       "      <th>3</th>\n",
       "      <td>Alabama</td>\n",
       "      <td>Bibb</td>\n",
       "      <td>84001007</td>\n",
       "      <td>US</td>\n",
       "      <td>USA</td>\n",
       "      <td>840</td>\n",
       "      <td>1007.0</td>\n",
       "      <td>US</td>\n",
       "      <td>32.996421</td>\n",
       "      <td>-87.125115</td>\n",
       "      <td>...</td>\n",
       "      <td>7560</td>\n",
       "      <td>7560</td>\n",
       "      <td>7560</td>\n",
       "      <td>7560</td>\n",
       "      <td>7560</td>\n",
       "      <td>7575</td>\n",
       "      <td>7575</td>\n",
       "      <td>7575</td>\n",
       "      <td>7575</td>\n",
       "      <td>7575</td>\n",
       "    </tr>\n",
       "    <tr>\n",
       "      <th>4</th>\n",
       "      <td>Alabama</td>\n",
       "      <td>Blount</td>\n",
       "      <td>84001009</td>\n",
       "      <td>US</td>\n",
       "      <td>USA</td>\n",
       "      <td>840</td>\n",
       "      <td>1009.0</td>\n",
       "      <td>US</td>\n",
       "      <td>33.982109</td>\n",
       "      <td>-86.567906</td>\n",
       "      <td>...</td>\n",
       "      <td>17286</td>\n",
       "      <td>17286</td>\n",
       "      <td>17286</td>\n",
       "      <td>17286</td>\n",
       "      <td>17286</td>\n",
       "      <td>17320</td>\n",
       "      <td>17320</td>\n",
       "      <td>17320</td>\n",
       "      <td>17320</td>\n",
       "      <td>17320</td>\n",
       "    </tr>\n",
       "  </tbody>\n",
       "</table>\n",
       "<p>5 rows × 1025 columns</p>\n",
       "</div>"
      ],
      "text/plain": [
       "  Province_State   Admin2       UID iso2 iso3  code3    FIPS Country_Region  \\\n",
       "0        Alabama  Autauga  84001001   US  USA    840  1001.0             US   \n",
       "1        Alabama  Baldwin  84001003   US  USA    840  1003.0             US   \n",
       "2        Alabama  Barbour  84001005   US  USA    840  1005.0             US   \n",
       "3        Alabama     Bibb  84001007   US  USA    840  1007.0             US   \n",
       "4        Alabama   Blount  84001009   US  USA    840  1009.0             US   \n",
       "\n",
       "         Lat      Long_  ... 10/22/22  10/23/22  10/24/22  10/25/22  10/26/22  \\\n",
       "0  32.539527 -86.644082  ...    18480     18480     18480     18480     18480   \n",
       "1  30.727750 -87.722071  ...    65895     65895     65895     65895     65895   \n",
       "2  31.868263 -85.387129  ...     6926      6926      6926      6926      6926   \n",
       "3  32.996421 -87.125115  ...     7560      7560      7560      7560      7560   \n",
       "4  33.982109 -86.567906  ...    17286     17286     17286     17286     17286   \n",
       "\n",
       "   10/27/22  10/28/22  10/29/22  10/30/22  10/31/22  \n",
       "0     18511     18511     18511     18511     18511  \n",
       "1     65973     65973     65973     65973     65973  \n",
       "2      6930      6930      6930      6930      6930  \n",
       "3      7575      7575      7575      7575      7575  \n",
       "4     17320     17320     17320     17320     17320  \n",
       "\n",
       "[5 rows x 1025 columns]"
      ]
     },
     "execution_count": 155,
     "metadata": {},
     "output_type": "execute_result"
    }
   ],
   "source": [
    "conf_cases.head()"
   ]
  },
  {
   "cell_type": "code",
   "execution_count": 156,
   "id": "eaa6e326",
   "metadata": {},
   "outputs": [
    {
     "data": {
      "text/html": [
       "<div>\n",
       "<style scoped>\n",
       "    .dataframe tbody tr th:only-of-type {\n",
       "        vertical-align: middle;\n",
       "    }\n",
       "\n",
       "    .dataframe tbody tr th {\n",
       "        vertical-align: top;\n",
       "    }\n",
       "\n",
       "    .dataframe thead th {\n",
       "        text-align: right;\n",
       "    }\n",
       "</style>\n",
       "<table border=\"1\" class=\"dataframe\">\n",
       "  <thead>\n",
       "    <tr style=\"text-align: right;\">\n",
       "      <th></th>\n",
       "      <th>DATE</th>\n",
       "      <th>UNRATE</th>\n",
       "    </tr>\n",
       "  </thead>\n",
       "  <tbody>\n",
       "    <tr>\n",
       "      <th>0</th>\n",
       "      <td>1948-01-01</td>\n",
       "      <td>3.4</td>\n",
       "    </tr>\n",
       "    <tr>\n",
       "      <th>1</th>\n",
       "      <td>1948-02-01</td>\n",
       "      <td>3.8</td>\n",
       "    </tr>\n",
       "    <tr>\n",
       "      <th>2</th>\n",
       "      <td>1948-03-01</td>\n",
       "      <td>4.0</td>\n",
       "    </tr>\n",
       "    <tr>\n",
       "      <th>3</th>\n",
       "      <td>1948-04-01</td>\n",
       "      <td>3.9</td>\n",
       "    </tr>\n",
       "    <tr>\n",
       "      <th>4</th>\n",
       "      <td>1948-05-01</td>\n",
       "      <td>3.5</td>\n",
       "    </tr>\n",
       "  </tbody>\n",
       "</table>\n",
       "</div>"
      ],
      "text/plain": [
       "         DATE  UNRATE\n",
       "0  1948-01-01     3.4\n",
       "1  1948-02-01     3.8\n",
       "2  1948-03-01     4.0\n",
       "3  1948-04-01     3.9\n",
       "4  1948-05-01     3.5"
      ]
     },
     "execution_count": 156,
     "metadata": {},
     "output_type": "execute_result"
    }
   ],
   "source": [
    "unemp.head()"
   ]
  },
  {
   "cell_type": "code",
   "execution_count": 157,
   "id": "9cb0f835",
   "metadata": {},
   "outputs": [
    {
     "data": {
      "text/html": [
       "<div>\n",
       "<style scoped>\n",
       "    .dataframe tbody tr th:only-of-type {\n",
       "        vertical-align: middle;\n",
       "    }\n",
       "\n",
       "    .dataframe tbody tr th {\n",
       "        vertical-align: top;\n",
       "    }\n",
       "\n",
       "    .dataframe thead th {\n",
       "        text-align: right;\n",
       "    }\n",
       "</style>\n",
       "<table border=\"1\" class=\"dataframe\">\n",
       "  <thead>\n",
       "    <tr style=\"text-align: right;\">\n",
       "      <th></th>\n",
       "      <th>DATE</th>\n",
       "      <th>UNRATE</th>\n",
       "    </tr>\n",
       "  </thead>\n",
       "  <tbody>\n",
       "    <tr>\n",
       "      <th>0</th>\n",
       "      <td>1948-01-01</td>\n",
       "      <td>3.4</td>\n",
       "    </tr>\n",
       "    <tr>\n",
       "      <th>1</th>\n",
       "      <td>1948-02-01</td>\n",
       "      <td>3.8</td>\n",
       "    </tr>\n",
       "    <tr>\n",
       "      <th>2</th>\n",
       "      <td>1948-03-01</td>\n",
       "      <td>4.0</td>\n",
       "    </tr>\n",
       "    <tr>\n",
       "      <th>3</th>\n",
       "      <td>1948-04-01</td>\n",
       "      <td>3.9</td>\n",
       "    </tr>\n",
       "    <tr>\n",
       "      <th>4</th>\n",
       "      <td>1948-05-01</td>\n",
       "      <td>3.5</td>\n",
       "    </tr>\n",
       "    <tr>\n",
       "      <th>...</th>\n",
       "      <td>...</td>\n",
       "      <td>...</td>\n",
       "    </tr>\n",
       "    <tr>\n",
       "      <th>894</th>\n",
       "      <td>2022-07-01</td>\n",
       "      <td>3.5</td>\n",
       "    </tr>\n",
       "    <tr>\n",
       "      <th>895</th>\n",
       "      <td>2022-08-01</td>\n",
       "      <td>3.7</td>\n",
       "    </tr>\n",
       "    <tr>\n",
       "      <th>896</th>\n",
       "      <td>2022-09-01</td>\n",
       "      <td>3.5</td>\n",
       "    </tr>\n",
       "    <tr>\n",
       "      <th>897</th>\n",
       "      <td>2022-10-01</td>\n",
       "      <td>3.7</td>\n",
       "    </tr>\n",
       "    <tr>\n",
       "      <th>898</th>\n",
       "      <td>2022-11-01</td>\n",
       "      <td>3.7</td>\n",
       "    </tr>\n",
       "  </tbody>\n",
       "</table>\n",
       "<p>899 rows × 2 columns</p>\n",
       "</div>"
      ],
      "text/plain": [
       "           DATE  UNRATE\n",
       "0    1948-01-01     3.4\n",
       "1    1948-02-01     3.8\n",
       "2    1948-03-01     4.0\n",
       "3    1948-04-01     3.9\n",
       "4    1948-05-01     3.5\n",
       "..          ...     ...\n",
       "894  2022-07-01     3.5\n",
       "895  2022-08-01     3.7\n",
       "896  2022-09-01     3.5\n",
       "897  2022-10-01     3.7\n",
       "898  2022-11-01     3.7\n",
       "\n",
       "[899 rows x 2 columns]"
      ]
     },
     "execution_count": 157,
     "metadata": {},
     "output_type": "execute_result"
    }
   ],
   "source": [
    "unemp.sort_values(by=\"DATE\", ascending=True  )"
   ]
  },
  {
   "cell_type": "markdown",
   "id": "fb046c53",
   "metadata": {},
   "source": [
    "### Pre process data to merge with base data"
   ]
  },
  {
   "cell_type": "code",
   "execution_count": 158,
   "id": "7569c0ad",
   "metadata": {},
   "outputs": [],
   "source": [
    "unemp1 = unemp.loc[unemp['DATE'] >= \"1990-01-01\"] "
   ]
  },
  {
   "cell_type": "code",
   "execution_count": 159,
   "id": "f368d0df",
   "metadata": {},
   "outputs": [
    {
     "data": {
      "text/html": [
       "<div>\n",
       "<style scoped>\n",
       "    .dataframe tbody tr th:only-of-type {\n",
       "        vertical-align: middle;\n",
       "    }\n",
       "\n",
       "    .dataframe tbody tr th {\n",
       "        vertical-align: top;\n",
       "    }\n",
       "\n",
       "    .dataframe thead th {\n",
       "        text-align: right;\n",
       "    }\n",
       "</style>\n",
       "<table border=\"1\" class=\"dataframe\">\n",
       "  <thead>\n",
       "    <tr style=\"text-align: right;\">\n",
       "      <th></th>\n",
       "      <th>Date</th>\n",
       "      <th>UNRATE</th>\n",
       "    </tr>\n",
       "  </thead>\n",
       "  <tbody>\n",
       "    <tr>\n",
       "      <th>504</th>\n",
       "      <td>1990-01-01</td>\n",
       "      <td>5.4</td>\n",
       "    </tr>\n",
       "    <tr>\n",
       "      <th>505</th>\n",
       "      <td>1990-02-01</td>\n",
       "      <td>5.3</td>\n",
       "    </tr>\n",
       "    <tr>\n",
       "      <th>506</th>\n",
       "      <td>1990-03-01</td>\n",
       "      <td>5.2</td>\n",
       "    </tr>\n",
       "    <tr>\n",
       "      <th>507</th>\n",
       "      <td>1990-04-01</td>\n",
       "      <td>5.4</td>\n",
       "    </tr>\n",
       "    <tr>\n",
       "      <th>508</th>\n",
       "      <td>1990-05-01</td>\n",
       "      <td>5.4</td>\n",
       "    </tr>\n",
       "  </tbody>\n",
       "</table>\n",
       "</div>"
      ],
      "text/plain": [
       "           Date  UNRATE\n",
       "504  1990-01-01     5.4\n",
       "505  1990-02-01     5.3\n",
       "506  1990-03-01     5.2\n",
       "507  1990-04-01     5.4\n",
       "508  1990-05-01     5.4"
      ]
     },
     "execution_count": 159,
     "metadata": {},
     "output_type": "execute_result"
    }
   ],
   "source": [
    "unemp1 = unemp1.rename(columns={'DATE': 'Date'})\n",
    "unemp1.head()"
   ]
  },
  {
   "cell_type": "code",
   "execution_count": 160,
   "id": "a78767b1",
   "metadata": {},
   "outputs": [
    {
     "data": {
      "text/html": [
       "<div>\n",
       "<style scoped>\n",
       "    .dataframe tbody tr th:only-of-type {\n",
       "        vertical-align: middle;\n",
       "    }\n",
       "\n",
       "    .dataframe tbody tr th {\n",
       "        vertical-align: top;\n",
       "    }\n",
       "\n",
       "    .dataframe thead th {\n",
       "        text-align: right;\n",
       "    }\n",
       "</style>\n",
       "<table border=\"1\" class=\"dataframe\">\n",
       "  <thead>\n",
       "    <tr style=\"text-align: right;\">\n",
       "      <th></th>\n",
       "      <th>week_ended</th>\n",
       "      <th>reflecting_week_end</th>\n",
       "      <th>fips_code</th>\n",
       "      <th>state_name</th>\n",
       "      <th>initial_claims</th>\n",
       "      <th>continued_claims</th>\n",
       "      <th>covered_employment</th>\n",
       "      <th>insured_unemployment_rate</th>\n",
       "      <th>Unnamed: 8</th>\n",
       "    </tr>\n",
       "  </thead>\n",
       "  <tbody>\n",
       "    <tr>\n",
       "      <th>0</th>\n",
       "      <td>8/28/2021</td>\n",
       "      <td>8/21/2021</td>\n",
       "      <td>04000US48</td>\n",
       "      <td>Texas</td>\n",
       "      <td>19274</td>\n",
       "      <td>166925</td>\n",
       "      <td>NaN</td>\n",
       "      <td>NaN</td>\n",
       "      <td>8/1/2021</td>\n",
       "    </tr>\n",
       "    <tr>\n",
       "      <th>1</th>\n",
       "      <td>8/21/2021</td>\n",
       "      <td>8/14/2021</td>\n",
       "      <td>04000US48</td>\n",
       "      <td>Texas</td>\n",
       "      <td>20335</td>\n",
       "      <td>179271</td>\n",
       "      <td>NaN</td>\n",
       "      <td>NaN</td>\n",
       "      <td>8/1/2021</td>\n",
       "    </tr>\n",
       "    <tr>\n",
       "      <th>2</th>\n",
       "      <td>8/14/2021</td>\n",
       "      <td>8/7/2021</td>\n",
       "      <td>04000US48</td>\n",
       "      <td>Texas</td>\n",
       "      <td>23375</td>\n",
       "      <td>191169</td>\n",
       "      <td>11848728.0</td>\n",
       "      <td>1.61</td>\n",
       "      <td>8/1/2021</td>\n",
       "    </tr>\n",
       "    <tr>\n",
       "      <th>3</th>\n",
       "      <td>8/7/2021</td>\n",
       "      <td>7/31/2021</td>\n",
       "      <td>04000US48</td>\n",
       "      <td>Texas</td>\n",
       "      <td>31042</td>\n",
       "      <td>190232</td>\n",
       "      <td>11848728.0</td>\n",
       "      <td>1.61</td>\n",
       "      <td>8/1/2021</td>\n",
       "    </tr>\n",
       "    <tr>\n",
       "      <th>4</th>\n",
       "      <td>7/31/2021</td>\n",
       "      <td>7/24/2021</td>\n",
       "      <td>04000US48</td>\n",
       "      <td>Texas</td>\n",
       "      <td>30138</td>\n",
       "      <td>210422</td>\n",
       "      <td>11848728.0</td>\n",
       "      <td>1.78</td>\n",
       "      <td>7/1/2021</td>\n",
       "    </tr>\n",
       "  </tbody>\n",
       "</table>\n",
       "</div>"
      ],
      "text/plain": [
       "  week_ended reflecting_week_end  fips_code state_name  initial_claims  \\\n",
       "0  8/28/2021           8/21/2021  04000US48      Texas           19274   \n",
       "1  8/21/2021           8/14/2021  04000US48      Texas           20335   \n",
       "2  8/14/2021            8/7/2021  04000US48      Texas           23375   \n",
       "3   8/7/2021           7/31/2021  04000US48      Texas           31042   \n",
       "4  7/31/2021           7/24/2021  04000US48      Texas           30138   \n",
       "\n",
       "   continued_claims  covered_employment  insured_unemployment_rate Unnamed: 8  \n",
       "0            166925                 NaN                        NaN   8/1/2021  \n",
       "1            179271                 NaN                        NaN   8/1/2021  \n",
       "2            191169          11848728.0                       1.61   8/1/2021  \n",
       "3            190232          11848728.0                       1.61   8/1/2021  \n",
       "4            210422          11848728.0                       1.78   7/1/2021  "
      ]
     },
     "execution_count": 160,
     "metadata": {},
     "output_type": "execute_result"
    }
   ],
   "source": [
    "claims.head()"
   ]
  },
  {
   "cell_type": "code",
   "execution_count": 161,
   "id": "cf585c8d",
   "metadata": {},
   "outputs": [
    {
     "data": {
      "text/html": [
       "<div>\n",
       "<style scoped>\n",
       "    .dataframe tbody tr th:only-of-type {\n",
       "        vertical-align: middle;\n",
       "    }\n",
       "\n",
       "    .dataframe tbody tr th {\n",
       "        vertical-align: top;\n",
       "    }\n",
       "\n",
       "    .dataframe thead th {\n",
       "        text-align: right;\n",
       "    }\n",
       "</style>\n",
       "<table border=\"1\" class=\"dataframe\">\n",
       "  <thead>\n",
       "    <tr style=\"text-align: right;\">\n",
       "      <th></th>\n",
       "      <th>week_ended</th>\n",
       "      <th>reflecting_week_end</th>\n",
       "      <th>fips_code</th>\n",
       "      <th>state_name</th>\n",
       "      <th>initial_claims</th>\n",
       "      <th>continued_claims</th>\n",
       "      <th>covered_employment</th>\n",
       "      <th>insured_unemployment_rate</th>\n",
       "      <th>Date</th>\n",
       "    </tr>\n",
       "  </thead>\n",
       "  <tbody>\n",
       "    <tr>\n",
       "      <th>0</th>\n",
       "      <td>8/28/2021</td>\n",
       "      <td>8/21/2021</td>\n",
       "      <td>04000US48</td>\n",
       "      <td>Texas</td>\n",
       "      <td>19274</td>\n",
       "      <td>166925</td>\n",
       "      <td>NaN</td>\n",
       "      <td>NaN</td>\n",
       "      <td>8/1/2021</td>\n",
       "    </tr>\n",
       "    <tr>\n",
       "      <th>1</th>\n",
       "      <td>8/21/2021</td>\n",
       "      <td>8/14/2021</td>\n",
       "      <td>04000US48</td>\n",
       "      <td>Texas</td>\n",
       "      <td>20335</td>\n",
       "      <td>179271</td>\n",
       "      <td>NaN</td>\n",
       "      <td>NaN</td>\n",
       "      <td>8/1/2021</td>\n",
       "    </tr>\n",
       "    <tr>\n",
       "      <th>2</th>\n",
       "      <td>8/14/2021</td>\n",
       "      <td>8/7/2021</td>\n",
       "      <td>04000US48</td>\n",
       "      <td>Texas</td>\n",
       "      <td>23375</td>\n",
       "      <td>191169</td>\n",
       "      <td>11848728.0</td>\n",
       "      <td>1.61</td>\n",
       "      <td>8/1/2021</td>\n",
       "    </tr>\n",
       "    <tr>\n",
       "      <th>3</th>\n",
       "      <td>8/7/2021</td>\n",
       "      <td>7/31/2021</td>\n",
       "      <td>04000US48</td>\n",
       "      <td>Texas</td>\n",
       "      <td>31042</td>\n",
       "      <td>190232</td>\n",
       "      <td>11848728.0</td>\n",
       "      <td>1.61</td>\n",
       "      <td>8/1/2021</td>\n",
       "    </tr>\n",
       "    <tr>\n",
       "      <th>4</th>\n",
       "      <td>7/31/2021</td>\n",
       "      <td>7/24/2021</td>\n",
       "      <td>04000US48</td>\n",
       "      <td>Texas</td>\n",
       "      <td>30138</td>\n",
       "      <td>210422</td>\n",
       "      <td>11848728.0</td>\n",
       "      <td>1.78</td>\n",
       "      <td>7/1/2021</td>\n",
       "    </tr>\n",
       "  </tbody>\n",
       "</table>\n",
       "</div>"
      ],
      "text/plain": [
       "  week_ended reflecting_week_end  fips_code state_name  initial_claims  \\\n",
       "0  8/28/2021           8/21/2021  04000US48      Texas           19274   \n",
       "1  8/21/2021           8/14/2021  04000US48      Texas           20335   \n",
       "2  8/14/2021            8/7/2021  04000US48      Texas           23375   \n",
       "3   8/7/2021           7/31/2021  04000US48      Texas           31042   \n",
       "4  7/31/2021           7/24/2021  04000US48      Texas           30138   \n",
       "\n",
       "   continued_claims  covered_employment  insured_unemployment_rate      Date  \n",
       "0            166925                 NaN                        NaN  8/1/2021  \n",
       "1            179271                 NaN                        NaN  8/1/2021  \n",
       "2            191169          11848728.0                       1.61  8/1/2021  \n",
       "3            190232          11848728.0                       1.61  8/1/2021  \n",
       "4            210422          11848728.0                       1.78  7/1/2021  "
      ]
     },
     "execution_count": 161,
     "metadata": {},
     "output_type": "execute_result"
    }
   ],
   "source": [
    "claims = claims.rename(columns={'Unnamed: 8': 'Date'})\n",
    "claims.sort_values(by=\"Date\", ascending=True  )\n",
    "claims.head()"
   ]
  },
  {
   "cell_type": "code",
   "execution_count": 162,
   "id": "ce4249f0",
   "metadata": {},
   "outputs": [],
   "source": [
    "claims1 = claims.loc[claims['Date'] >= \"2020-01-01\"] \n",
    "claims1.reset_index()\n",
    "claims_df = claims1.groupby('Date').mean().reset_index()"
   ]
  },
  {
   "cell_type": "code",
   "execution_count": 164,
   "id": "ff1289d2",
   "metadata": {},
   "outputs": [
    {
     "data": {
      "text/html": [
       "<div>\n",
       "<style scoped>\n",
       "    .dataframe tbody tr th:only-of-type {\n",
       "        vertical-align: middle;\n",
       "    }\n",
       "\n",
       "    .dataframe tbody tr th {\n",
       "        vertical-align: top;\n",
       "    }\n",
       "\n",
       "    .dataframe thead th {\n",
       "        text-align: right;\n",
       "    }\n",
       "</style>\n",
       "<table border=\"1\" class=\"dataframe\">\n",
       "  <thead>\n",
       "    <tr style=\"text-align: right;\">\n",
       "      <th></th>\n",
       "      <th>Date</th>\n",
       "      <th>initial_claims</th>\n",
       "      <th>continued_claims</th>\n",
       "      <th>covered_employment</th>\n",
       "      <th>insured_unemployment_rate</th>\n",
       "    </tr>\n",
       "  </thead>\n",
       "  <tbody>\n",
       "    <tr>\n",
       "      <th>0</th>\n",
       "      <td>3/1/1987</td>\n",
       "      <td>18462.75</td>\n",
       "      <td>179384.50</td>\n",
       "      <td>6386117.0</td>\n",
       "      <td>2.810</td>\n",
       "    </tr>\n",
       "    <tr>\n",
       "      <th>1</th>\n",
       "      <td>3/1/1988</td>\n",
       "      <td>14579.50</td>\n",
       "      <td>128155.00</td>\n",
       "      <td>6194144.0</td>\n",
       "      <td>2.070</td>\n",
       "    </tr>\n",
       "    <tr>\n",
       "      <th>2</th>\n",
       "      <td>3/1/1989</td>\n",
       "      <td>13070.50</td>\n",
       "      <td>123485.25</td>\n",
       "      <td>6285338.0</td>\n",
       "      <td>1.965</td>\n",
       "    </tr>\n",
       "    <tr>\n",
       "      <th>3</th>\n",
       "      <td>3/1/1990</td>\n",
       "      <td>14377.80</td>\n",
       "      <td>126656.40</td>\n",
       "      <td>6471125.2</td>\n",
       "      <td>1.958</td>\n",
       "    </tr>\n",
       "    <tr>\n",
       "      <th>4</th>\n",
       "      <td>3/1/1991</td>\n",
       "      <td>14488.00</td>\n",
       "      <td>143829.40</td>\n",
       "      <td>6662385.8</td>\n",
       "      <td>2.160</td>\n",
       "    </tr>\n",
       "  </tbody>\n",
       "</table>\n",
       "</div>"
      ],
      "text/plain": [
       "       Date  initial_claims  continued_claims  covered_employment  \\\n",
       "0  3/1/1987        18462.75         179384.50           6386117.0   \n",
       "1  3/1/1988        14579.50         128155.00           6194144.0   \n",
       "2  3/1/1989        13070.50         123485.25           6285338.0   \n",
       "3  3/1/1990        14377.80         126656.40           6471125.2   \n",
       "4  3/1/1991        14488.00         143829.40           6662385.8   \n",
       "\n",
       "   insured_unemployment_rate  \n",
       "0                      2.810  \n",
       "1                      2.070  \n",
       "2                      1.965  \n",
       "3                      1.958  \n",
       "4                      2.160  "
      ]
     },
     "execution_count": 164,
     "metadata": {},
     "output_type": "execute_result"
    }
   ],
   "source": [
    "claims_df.head()"
   ]
  },
  {
   "cell_type": "code",
   "execution_count": 167,
   "id": "c234a4a2",
   "metadata": {},
   "outputs": [],
   "source": [
    "claims_df = claims1.drop(['week_ended', 'reflecting_week_end', 'fips_code', 'state_name'], axis=1)"
   ]
  },
  {
   "cell_type": "markdown",
   "id": "633a2191",
   "metadata": {},
   "source": [
    "#### Filter out for the required county : Harris County in Texas"
   ]
  },
  {
   "cell_type": "code",
   "execution_count": 168,
   "id": "3636d4de",
   "metadata": {},
   "outputs": [
    {
     "data": {
      "text/html": [
       "<div>\n",
       "<style scoped>\n",
       "    .dataframe tbody tr th:only-of-type {\n",
       "        vertical-align: middle;\n",
       "    }\n",
       "\n",
       "    .dataframe tbody tr th {\n",
       "        vertical-align: top;\n",
       "    }\n",
       "\n",
       "    .dataframe thead th {\n",
       "        text-align: right;\n",
       "    }\n",
       "</style>\n",
       "<table border=\"1\" class=\"dataframe\">\n",
       "  <thead>\n",
       "    <tr style=\"text-align: right;\">\n",
       "      <th></th>\n",
       "      <th>Province_State</th>\n",
       "      <th>Admin2</th>\n",
       "      <th>UID</th>\n",
       "      <th>iso2</th>\n",
       "      <th>iso3</th>\n",
       "      <th>code3</th>\n",
       "      <th>FIPS</th>\n",
       "      <th>Country_Region</th>\n",
       "      <th>Lat</th>\n",
       "      <th>Long_</th>\n",
       "      <th>...</th>\n",
       "      <th>10/22/22</th>\n",
       "      <th>10/23/22</th>\n",
       "      <th>10/24/22</th>\n",
       "      <th>10/25/22</th>\n",
       "      <th>10/26/22</th>\n",
       "      <th>10/27/22</th>\n",
       "      <th>10/28/22</th>\n",
       "      <th>10/29/22</th>\n",
       "      <th>10/30/22</th>\n",
       "      <th>10/31/22</th>\n",
       "    </tr>\n",
       "  </thead>\n",
       "  <tbody>\n",
       "    <tr>\n",
       "      <th>2800</th>\n",
       "      <td>Texas</td>\n",
       "      <td>Harris</td>\n",
       "      <td>84048201</td>\n",
       "      <td>US</td>\n",
       "      <td>USA</td>\n",
       "      <td>840</td>\n",
       "      <td>48201.0</td>\n",
       "      <td>US</td>\n",
       "      <td>29.858649</td>\n",
       "      <td>-95.393395</td>\n",
       "      <td>...</td>\n",
       "      <td>1219126</td>\n",
       "      <td>1219126</td>\n",
       "      <td>1219564</td>\n",
       "      <td>1219564</td>\n",
       "      <td>1219873</td>\n",
       "      <td>1219873</td>\n",
       "      <td>1220195</td>\n",
       "      <td>1220195</td>\n",
       "      <td>1220195</td>\n",
       "      <td>1220616</td>\n",
       "    </tr>\n",
       "  </tbody>\n",
       "</table>\n",
       "<p>1 rows × 1025 columns</p>\n",
       "</div>"
      ],
      "text/plain": [
       "     Province_State  Admin2       UID iso2 iso3  code3     FIPS  \\\n",
       "2800          Texas  Harris  84048201   US  USA    840  48201.0   \n",
       "\n",
       "     Country_Region        Lat      Long_  ... 10/22/22  10/23/22  10/24/22  \\\n",
       "2800             US  29.858649 -95.393395  ...  1219126   1219126   1219564   \n",
       "\n",
       "      10/25/22  10/26/22  10/27/22  10/28/22  10/29/22  10/30/22  10/31/22  \n",
       "2800   1219564   1219873   1219873   1220195   1220195   1220195   1220616  \n",
       "\n",
       "[1 rows x 1025 columns]"
      ]
     },
     "execution_count": 168,
     "metadata": {},
     "output_type": "execute_result"
    }
   ],
   "source": [
    "Harris = conf_cases[(conf_cases[\"Province_State\"] == \"Texas\") & (conf_cases[\"Admin2\"] == \"Harris\")]\n",
    "Harris.head()"
   ]
  },
  {
   "cell_type": "markdown",
   "id": "8c321ec0",
   "metadata": {},
   "source": [
    "## Base data pre processing\n",
    "\n",
    "Data needs to be cleaned and standardized "
   ]
  },
  {
   "cell_type": "code",
   "execution_count": 169,
   "id": "5787c760",
   "metadata": {},
   "outputs": [],
   "source": [
    "#The first few columns are general info about the state\n",
    "Harris_info = conf_cases[conf_cases.columns[0:11]]\n",
    "# FIPS needed to extraxt info from mask_use_by_county\n",
    "Harris_FIPS = conf_cases[\"FIPS\"].values[0]"
   ]
  },
  {
   "cell_type": "code",
   "execution_count": 170,
   "id": "e35be107",
   "metadata": {},
   "outputs": [
    {
     "data": {
      "text/plain": [
       "1001.0"
      ]
     },
     "execution_count": 170,
     "metadata": {},
     "output_type": "execute_result"
    }
   ],
   "source": [
    "Harris_FIPS"
   ]
  },
  {
   "cell_type": "code",
   "execution_count": 171,
   "id": "5c2b5118",
   "metadata": {},
   "outputs": [
    {
     "data": {
      "text/html": [
       "<div>\n",
       "<style scoped>\n",
       "    .dataframe tbody tr th:only-of-type {\n",
       "        vertical-align: middle;\n",
       "    }\n",
       "\n",
       "    .dataframe tbody tr th {\n",
       "        vertical-align: top;\n",
       "    }\n",
       "\n",
       "    .dataframe thead th {\n",
       "        text-align: right;\n",
       "    }\n",
       "</style>\n",
       "<table border=\"1\" class=\"dataframe\">\n",
       "  <thead>\n",
       "    <tr style=\"text-align: right;\">\n",
       "      <th></th>\n",
       "      <th>COUNTYFP</th>\n",
       "      <th>NEVER</th>\n",
       "      <th>RARELY</th>\n",
       "      <th>SOMETIMES</th>\n",
       "      <th>FREQUENTLY</th>\n",
       "      <th>ALWAYS</th>\n",
       "    </tr>\n",
       "  </thead>\n",
       "  <tbody>\n",
       "    <tr>\n",
       "      <th>0</th>\n",
       "      <td>1001</td>\n",
       "      <td>0.053</td>\n",
       "      <td>0.074</td>\n",
       "      <td>0.134</td>\n",
       "      <td>0.295</td>\n",
       "      <td>0.444</td>\n",
       "    </tr>\n",
       "    <tr>\n",
       "      <th>1</th>\n",
       "      <td>1003</td>\n",
       "      <td>0.083</td>\n",
       "      <td>0.059</td>\n",
       "      <td>0.098</td>\n",
       "      <td>0.323</td>\n",
       "      <td>0.436</td>\n",
       "    </tr>\n",
       "    <tr>\n",
       "      <th>2</th>\n",
       "      <td>1005</td>\n",
       "      <td>0.067</td>\n",
       "      <td>0.121</td>\n",
       "      <td>0.120</td>\n",
       "      <td>0.201</td>\n",
       "      <td>0.491</td>\n",
       "    </tr>\n",
       "    <tr>\n",
       "      <th>3</th>\n",
       "      <td>1007</td>\n",
       "      <td>0.020</td>\n",
       "      <td>0.034</td>\n",
       "      <td>0.096</td>\n",
       "      <td>0.278</td>\n",
       "      <td>0.572</td>\n",
       "    </tr>\n",
       "    <tr>\n",
       "      <th>4</th>\n",
       "      <td>1009</td>\n",
       "      <td>0.053</td>\n",
       "      <td>0.114</td>\n",
       "      <td>0.180</td>\n",
       "      <td>0.194</td>\n",
       "      <td>0.459</td>\n",
       "    </tr>\n",
       "  </tbody>\n",
       "</table>\n",
       "</div>"
      ],
      "text/plain": [
       "   COUNTYFP  NEVER  RARELY  SOMETIMES  FREQUENTLY  ALWAYS\n",
       "0      1001  0.053   0.074      0.134       0.295   0.444\n",
       "1      1003  0.083   0.059      0.098       0.323   0.436\n",
       "2      1005  0.067   0.121      0.120       0.201   0.491\n",
       "3      1007  0.020   0.034      0.096       0.278   0.572\n",
       "4      1009  0.053   0.114      0.180       0.194   0.459"
      ]
     },
     "execution_count": 171,
     "metadata": {},
     "output_type": "execute_result"
    }
   ],
   "source": [
    "mask_use_by_county.head()"
   ]
  },
  {
   "cell_type": "code",
   "execution_count": 172,
   "id": "c6e2b081",
   "metadata": {},
   "outputs": [
    {
     "data": {
      "text/html": [
       "<div>\n",
       "<style scoped>\n",
       "    .dataframe tbody tr th:only-of-type {\n",
       "        vertical-align: middle;\n",
       "    }\n",
       "\n",
       "    .dataframe tbody tr th {\n",
       "        vertical-align: top;\n",
       "    }\n",
       "\n",
       "    .dataframe thead th {\n",
       "        text-align: right;\n",
       "    }\n",
       "</style>\n",
       "<table border=\"1\" class=\"dataframe\">\n",
       "  <thead>\n",
       "    <tr style=\"text-align: right;\">\n",
       "      <th></th>\n",
       "      <th>COUNTYFP</th>\n",
       "      <th>NEVER</th>\n",
       "      <th>RARELY</th>\n",
       "      <th>SOMETIMES</th>\n",
       "      <th>FREQUENTLY</th>\n",
       "      <th>ALWAYS</th>\n",
       "    </tr>\n",
       "  </thead>\n",
       "  <tbody>\n",
       "    <tr>\n",
       "      <th>0</th>\n",
       "      <td>1001</td>\n",
       "      <td>0.053</td>\n",
       "      <td>0.074</td>\n",
       "      <td>0.134</td>\n",
       "      <td>0.295</td>\n",
       "      <td>0.444</td>\n",
       "    </tr>\n",
       "    <tr>\n",
       "      <th>1</th>\n",
       "      <td>1003</td>\n",
       "      <td>0.083</td>\n",
       "      <td>0.059</td>\n",
       "      <td>0.098</td>\n",
       "      <td>0.323</td>\n",
       "      <td>0.436</td>\n",
       "    </tr>\n",
       "    <tr>\n",
       "      <th>2</th>\n",
       "      <td>1005</td>\n",
       "      <td>0.067</td>\n",
       "      <td>0.121</td>\n",
       "      <td>0.120</td>\n",
       "      <td>0.201</td>\n",
       "      <td>0.491</td>\n",
       "    </tr>\n",
       "    <tr>\n",
       "      <th>3</th>\n",
       "      <td>1007</td>\n",
       "      <td>0.020</td>\n",
       "      <td>0.034</td>\n",
       "      <td>0.096</td>\n",
       "      <td>0.278</td>\n",
       "      <td>0.572</td>\n",
       "    </tr>\n",
       "    <tr>\n",
       "      <th>4</th>\n",
       "      <td>1009</td>\n",
       "      <td>0.053</td>\n",
       "      <td>0.114</td>\n",
       "      <td>0.180</td>\n",
       "      <td>0.194</td>\n",
       "      <td>0.459</td>\n",
       "    </tr>\n",
       "    <tr>\n",
       "      <th>...</th>\n",
       "      <td>...</td>\n",
       "      <td>...</td>\n",
       "      <td>...</td>\n",
       "      <td>...</td>\n",
       "      <td>...</td>\n",
       "      <td>...</td>\n",
       "    </tr>\n",
       "    <tr>\n",
       "      <th>3137</th>\n",
       "      <td>56037</td>\n",
       "      <td>0.061</td>\n",
       "      <td>0.295</td>\n",
       "      <td>0.230</td>\n",
       "      <td>0.146</td>\n",
       "      <td>0.268</td>\n",
       "    </tr>\n",
       "    <tr>\n",
       "      <th>3138</th>\n",
       "      <td>56039</td>\n",
       "      <td>0.095</td>\n",
       "      <td>0.157</td>\n",
       "      <td>0.160</td>\n",
       "      <td>0.247</td>\n",
       "      <td>0.340</td>\n",
       "    </tr>\n",
       "    <tr>\n",
       "      <th>3139</th>\n",
       "      <td>56041</td>\n",
       "      <td>0.098</td>\n",
       "      <td>0.278</td>\n",
       "      <td>0.154</td>\n",
       "      <td>0.207</td>\n",
       "      <td>0.264</td>\n",
       "    </tr>\n",
       "    <tr>\n",
       "      <th>3140</th>\n",
       "      <td>56043</td>\n",
       "      <td>0.204</td>\n",
       "      <td>0.155</td>\n",
       "      <td>0.069</td>\n",
       "      <td>0.285</td>\n",
       "      <td>0.287</td>\n",
       "    </tr>\n",
       "    <tr>\n",
       "      <th>3141</th>\n",
       "      <td>56045</td>\n",
       "      <td>0.142</td>\n",
       "      <td>0.129</td>\n",
       "      <td>0.148</td>\n",
       "      <td>0.207</td>\n",
       "      <td>0.374</td>\n",
       "    </tr>\n",
       "  </tbody>\n",
       "</table>\n",
       "<p>3142 rows × 6 columns</p>\n",
       "</div>"
      ],
      "text/plain": [
       "      COUNTYFP  NEVER  RARELY  SOMETIMES  FREQUENTLY  ALWAYS\n",
       "0         1001  0.053   0.074      0.134       0.295   0.444\n",
       "1         1003  0.083   0.059      0.098       0.323   0.436\n",
       "2         1005  0.067   0.121      0.120       0.201   0.491\n",
       "3         1007  0.020   0.034      0.096       0.278   0.572\n",
       "4         1009  0.053   0.114      0.180       0.194   0.459\n",
       "...        ...    ...     ...        ...         ...     ...\n",
       "3137     56037  0.061   0.295      0.230       0.146   0.268\n",
       "3138     56039  0.095   0.157      0.160       0.247   0.340\n",
       "3139     56041  0.098   0.278      0.154       0.207   0.264\n",
       "3140     56043  0.204   0.155      0.069       0.285   0.287\n",
       "3141     56045  0.142   0.129      0.148       0.207   0.374\n",
       "\n",
       "[3142 rows x 6 columns]"
      ]
     },
     "execution_count": 172,
     "metadata": {},
     "output_type": "execute_result"
    }
   ],
   "source": [
    "mask_use_by_county"
   ]
  },
  {
   "cell_type": "code",
   "execution_count": 173,
   "id": "f16c5581",
   "metadata": {},
   "outputs": [
    {
     "data": {
      "text/html": [
       "<div>\n",
       "<style scoped>\n",
       "    .dataframe tbody tr th:only-of-type {\n",
       "        vertical-align: middle;\n",
       "    }\n",
       "\n",
       "    .dataframe tbody tr th {\n",
       "        vertical-align: top;\n",
       "    }\n",
       "\n",
       "    .dataframe thead th {\n",
       "        text-align: right;\n",
       "    }\n",
       "</style>\n",
       "<table border=\"1\" class=\"dataframe\">\n",
       "  <thead>\n",
       "    <tr style=\"text-align: right;\">\n",
       "      <th></th>\n",
       "      <th>State_Tribe_Territory</th>\n",
       "      <th>County_Name</th>\n",
       "      <th>FIPS_State</th>\n",
       "      <th>FIPS_County</th>\n",
       "      <th>date</th>\n",
       "      <th>order_code</th>\n",
       "      <th>Face_Masks_Required_in_Public</th>\n",
       "      <th>Source_of_Action</th>\n",
       "      <th>URL</th>\n",
       "      <th>Citation</th>\n",
       "    </tr>\n",
       "  </thead>\n",
       "  <tbody>\n",
       "    <tr>\n",
       "      <th>0</th>\n",
       "      <td>AL</td>\n",
       "      <td>Autauga County</td>\n",
       "      <td>1</td>\n",
       "      <td>1</td>\n",
       "      <td>4/10/2020</td>\n",
       "      <td>2</td>\n",
       "      <td>NaN</td>\n",
       "      <td>NaN</td>\n",
       "      <td>NaN</td>\n",
       "      <td>NaN</td>\n",
       "    </tr>\n",
       "    <tr>\n",
       "      <th>1</th>\n",
       "      <td>AL</td>\n",
       "      <td>Autauga County</td>\n",
       "      <td>1</td>\n",
       "      <td>1</td>\n",
       "      <td>4/11/2020</td>\n",
       "      <td>2</td>\n",
       "      <td>NaN</td>\n",
       "      <td>NaN</td>\n",
       "      <td>NaN</td>\n",
       "      <td>NaN</td>\n",
       "    </tr>\n",
       "    <tr>\n",
       "      <th>2</th>\n",
       "      <td>AL</td>\n",
       "      <td>Autauga County</td>\n",
       "      <td>1</td>\n",
       "      <td>1</td>\n",
       "      <td>4/12/2020</td>\n",
       "      <td>2</td>\n",
       "      <td>NaN</td>\n",
       "      <td>NaN</td>\n",
       "      <td>NaN</td>\n",
       "      <td>NaN</td>\n",
       "    </tr>\n",
       "    <tr>\n",
       "      <th>3</th>\n",
       "      <td>AL</td>\n",
       "      <td>Autauga County</td>\n",
       "      <td>1</td>\n",
       "      <td>1</td>\n",
       "      <td>4/13/2020</td>\n",
       "      <td>2</td>\n",
       "      <td>NaN</td>\n",
       "      <td>NaN</td>\n",
       "      <td>NaN</td>\n",
       "      <td>NaN</td>\n",
       "    </tr>\n",
       "    <tr>\n",
       "      <th>4</th>\n",
       "      <td>AL</td>\n",
       "      <td>Autauga County</td>\n",
       "      <td>1</td>\n",
       "      <td>1</td>\n",
       "      <td>4/14/2020</td>\n",
       "      <td>2</td>\n",
       "      <td>NaN</td>\n",
       "      <td>NaN</td>\n",
       "      <td>NaN</td>\n",
       "      <td>NaN</td>\n",
       "    </tr>\n",
       "  </tbody>\n",
       "</table>\n",
       "</div>"
      ],
      "text/plain": [
       "  State_Tribe_Territory     County_Name  FIPS_State  FIPS_County       date  \\\n",
       "0                    AL  Autauga County           1            1  4/10/2020   \n",
       "1                    AL  Autauga County           1            1  4/11/2020   \n",
       "2                    AL  Autauga County           1            1  4/12/2020   \n",
       "3                    AL  Autauga County           1            1  4/13/2020   \n",
       "4                    AL  Autauga County           1            1  4/14/2020   \n",
       "\n",
       "   order_code Face_Masks_Required_in_Public Source_of_Action  URL Citation  \n",
       "0           2                           NaN              NaN  NaN      NaN  \n",
       "1           2                           NaN              NaN  NaN      NaN  \n",
       "2           2                           NaN              NaN  NaN      NaN  \n",
       "3           2                           NaN              NaN  NaN      NaN  \n",
       "4           2                           NaN              NaN  NaN      NaN  "
      ]
     },
     "execution_count": 173,
     "metadata": {},
     "output_type": "execute_result"
    }
   ],
   "source": [
    "Harris_mask_use = mask_use_by_county[mask_use_by_county[\"COUNTYFP\"] == Harris_FIPS]\n",
    "mm.head()"
   ]
  },
  {
   "cell_type": "code",
   "execution_count": 174,
   "id": "a9602e22",
   "metadata": {},
   "outputs": [
    {
     "data": {
      "text/plain": [
       "Washington County    14790\n",
       "Jefferson County     12325\n",
       "Franklin County      11832\n",
       "Lincoln County       11339\n",
       "Jackson County       11339\n",
       "                     ...  \n",
       "Norfolk County         493\n",
       "Nantucket County       493\n",
       "Hampden County         493\n",
       "Dukes County           493\n",
       "St. John Island        493\n",
       "Name: County_Name, Length: 1968, dtype: int64"
      ]
     },
     "execution_count": 174,
     "metadata": {},
     "output_type": "execute_result"
    }
   ],
   "source": [
    "#mask_mandates_april_2020_aug_2021[\"State_Tribe_Territory\"].value_counts()\n",
    "mm[\"County_Name\"].value_counts()"
   ]
  },
  {
   "cell_type": "code",
   "execution_count": 175,
   "id": "25adccea",
   "metadata": {},
   "outputs": [
    {
     "data": {
      "text/html": [
       "<div>\n",
       "<style scoped>\n",
       "    .dataframe tbody tr th:only-of-type {\n",
       "        vertical-align: middle;\n",
       "    }\n",
       "\n",
       "    .dataframe tbody tr th {\n",
       "        vertical-align: top;\n",
       "    }\n",
       "\n",
       "    .dataframe thead th {\n",
       "        text-align: right;\n",
       "    }\n",
       "</style>\n",
       "<table border=\"1\" class=\"dataframe\">\n",
       "  <thead>\n",
       "    <tr style=\"text-align: right;\">\n",
       "      <th></th>\n",
       "      <th>State_Tribe_Territory</th>\n",
       "      <th>County_Name</th>\n",
       "      <th>FIPS_State</th>\n",
       "      <th>FIPS_County</th>\n",
       "      <th>date</th>\n",
       "      <th>order_code</th>\n",
       "      <th>Face_Masks_Required_in_Public</th>\n",
       "      <th>Source_of_Action</th>\n",
       "      <th>URL</th>\n",
       "      <th>Citation</th>\n",
       "    </tr>\n",
       "  </thead>\n",
       "  <tbody>\n",
       "    <tr>\n",
       "      <th>697718</th>\n",
       "      <td>TX</td>\n",
       "      <td>Harris County</td>\n",
       "      <td>48</td>\n",
       "      <td>201</td>\n",
       "      <td>4/10/2020</td>\n",
       "      <td>2</td>\n",
       "      <td>NaN</td>\n",
       "      <td>NaN</td>\n",
       "      <td>NaN</td>\n",
       "      <td>NaN</td>\n",
       "    </tr>\n",
       "    <tr>\n",
       "      <th>697719</th>\n",
       "      <td>TX</td>\n",
       "      <td>Harris County</td>\n",
       "      <td>48</td>\n",
       "      <td>201</td>\n",
       "      <td>4/11/2020</td>\n",
       "      <td>2</td>\n",
       "      <td>NaN</td>\n",
       "      <td>NaN</td>\n",
       "      <td>NaN</td>\n",
       "      <td>NaN</td>\n",
       "    </tr>\n",
       "    <tr>\n",
       "      <th>697720</th>\n",
       "      <td>TX</td>\n",
       "      <td>Harris County</td>\n",
       "      <td>48</td>\n",
       "      <td>201</td>\n",
       "      <td>4/12/2020</td>\n",
       "      <td>2</td>\n",
       "      <td>NaN</td>\n",
       "      <td>NaN</td>\n",
       "      <td>NaN</td>\n",
       "      <td>NaN</td>\n",
       "    </tr>\n",
       "    <tr>\n",
       "      <th>697721</th>\n",
       "      <td>TX</td>\n",
       "      <td>Harris County</td>\n",
       "      <td>48</td>\n",
       "      <td>201</td>\n",
       "      <td>4/13/2020</td>\n",
       "      <td>2</td>\n",
       "      <td>NaN</td>\n",
       "      <td>NaN</td>\n",
       "      <td>NaN</td>\n",
       "      <td>NaN</td>\n",
       "    </tr>\n",
       "    <tr>\n",
       "      <th>697722</th>\n",
       "      <td>TX</td>\n",
       "      <td>Harris County</td>\n",
       "      <td>48</td>\n",
       "      <td>201</td>\n",
       "      <td>4/14/2020</td>\n",
       "      <td>2</td>\n",
       "      <td>NaN</td>\n",
       "      <td>NaN</td>\n",
       "      <td>NaN</td>\n",
       "      <td>NaN</td>\n",
       "    </tr>\n",
       "  </tbody>\n",
       "</table>\n",
       "</div>"
      ],
      "text/plain": [
       "       State_Tribe_Territory    County_Name  FIPS_State  FIPS_County  \\\n",
       "697718                    TX  Harris County          48          201   \n",
       "697719                    TX  Harris County          48          201   \n",
       "697720                    TX  Harris County          48          201   \n",
       "697721                    TX  Harris County          48          201   \n",
       "697722                    TX  Harris County          48          201   \n",
       "\n",
       "             date  order_code Face_Masks_Required_in_Public Source_of_Action  \\\n",
       "697718  4/10/2020           2                           NaN              NaN   \n",
       "697719  4/11/2020           2                           NaN              NaN   \n",
       "697720  4/12/2020           2                           NaN              NaN   \n",
       "697721  4/13/2020           2                           NaN              NaN   \n",
       "697722  4/14/2020           2                           NaN              NaN   \n",
       "\n",
       "        URL Citation  \n",
       "697718  NaN      NaN  \n",
       "697719  NaN      NaN  \n",
       "697720  NaN      NaN  \n",
       "697721  NaN      NaN  \n",
       "697722  NaN      NaN  "
      ]
     },
     "execution_count": 175,
     "metadata": {},
     "output_type": "execute_result"
    }
   ],
   "source": [
    "Harris_mask_mandates = mm[(mm[\"State_Tribe_Territory\"] == \"TX\") & (mm['County_Name'] == 'Harris County')]\n",
    "Harris_mask_mandates.head()"
   ]
  },
  {
   "cell_type": "code",
   "execution_count": 176,
   "id": "c589009c",
   "metadata": {},
   "outputs": [
    {
     "data": {
      "text/plain": [
       "Yes        250\n",
       "No         159\n",
       "Unknown     84\n",
       "Name: Face_Masks_Required_in_Public, dtype: int64"
      ]
     },
     "execution_count": 176,
     "metadata": {},
     "output_type": "execute_result"
    }
   ],
   "source": [
    "Harris_mask_mandates[\"Face_Masks_Required_in_Public\"].fillna(\"Unknown\",inplace=True)\n",
    "Harris_mask_mandates[\"Face_Masks_Required_in_Public\"].value_counts()"
   ]
  },
  {
   "cell_type": "code",
   "execution_count": 177,
   "id": "94af11e0",
   "metadata": {},
   "outputs": [],
   "source": [
    "#To analyse the number of cases\n",
    "Harris_cases = Harris.iloc[:,12:].transpose().reset_index()"
   ]
  },
  {
   "cell_type": "code",
   "execution_count": 178,
   "id": "62487372",
   "metadata": {},
   "outputs": [],
   "source": [
    "Harris_cases.columns=['Date', 'Number_of_cases']"
   ]
  },
  {
   "cell_type": "code",
   "execution_count": 179,
   "id": "01f73917",
   "metadata": {},
   "outputs": [
    {
     "data": {
      "text/html": [
       "<div>\n",
       "<style scoped>\n",
       "    .dataframe tbody tr th:only-of-type {\n",
       "        vertical-align: middle;\n",
       "    }\n",
       "\n",
       "    .dataframe tbody tr th {\n",
       "        vertical-align: top;\n",
       "    }\n",
       "\n",
       "    .dataframe thead th {\n",
       "        text-align: right;\n",
       "    }\n",
       "</style>\n",
       "<table border=\"1\" class=\"dataframe\">\n",
       "  <thead>\n",
       "    <tr style=\"text-align: right;\">\n",
       "      <th></th>\n",
       "      <th>Date</th>\n",
       "      <th>Number_of_cases</th>\n",
       "    </tr>\n",
       "  </thead>\n",
       "  <tbody>\n",
       "    <tr>\n",
       "      <th>0</th>\n",
       "      <td>1/23/20</td>\n",
       "      <td>0</td>\n",
       "    </tr>\n",
       "    <tr>\n",
       "      <th>1</th>\n",
       "      <td>1/24/20</td>\n",
       "      <td>0</td>\n",
       "    </tr>\n",
       "    <tr>\n",
       "      <th>2</th>\n",
       "      <td>1/25/20</td>\n",
       "      <td>0</td>\n",
       "    </tr>\n",
       "    <tr>\n",
       "      <th>3</th>\n",
       "      <td>1/26/20</td>\n",
       "      <td>0</td>\n",
       "    </tr>\n",
       "    <tr>\n",
       "      <th>4</th>\n",
       "      <td>1/27/20</td>\n",
       "      <td>0</td>\n",
       "    </tr>\n",
       "  </tbody>\n",
       "</table>\n",
       "</div>"
      ],
      "text/plain": [
       "      Date  Number_of_cases\n",
       "0  1/23/20                0\n",
       "1  1/24/20                0\n",
       "2  1/25/20                0\n",
       "3  1/26/20                0\n",
       "4  1/27/20                0"
      ]
     },
     "execution_count": 179,
     "metadata": {},
     "output_type": "execute_result"
    }
   ],
   "source": [
    "Harris_cases.head()"
   ]
  },
  {
   "cell_type": "markdown",
   "id": "28a95f34",
   "metadata": {},
   "source": [
    "#### Convert Date to DateTime and sort ascending"
   ]
  },
  {
   "cell_type": "code",
   "execution_count": 180,
   "id": "7e12e4af",
   "metadata": {},
   "outputs": [],
   "source": [
    "Harris_cases[\"Date\"] = pd.to_datetime(Harris_cases[\"Date\"], format=\"%m/%d/%y\")\n",
    "#Harris_cases[\"Date\"] = Harris_cases[\"Date\"].astype()\n",
    "Harris_cases = Harris_cases.sort_values(by='Date')"
   ]
  },
  {
   "cell_type": "code",
   "execution_count": 181,
   "id": "c638e636",
   "metadata": {},
   "outputs": [
    {
     "data": {
      "text/plain": [
       "2020-01-23    1\n",
       "2021-12-04    1\n",
       "2021-11-21    1\n",
       "2021-11-22    1\n",
       "2021-11-23    1\n",
       "             ..\n",
       "2020-12-30    1\n",
       "2020-12-31    1\n",
       "2021-01-01    1\n",
       "2021-01-02    1\n",
       "2022-10-31    1\n",
       "Name: Date, Length: 1013, dtype: int64"
      ]
     },
     "execution_count": 181,
     "metadata": {},
     "output_type": "execute_result"
    }
   ],
   "source": [
    "Harris_cases[\"Date\"].value_counts()"
   ]
  },
  {
   "cell_type": "code",
   "execution_count": 182,
   "id": "0bd6c6b3",
   "metadata": {},
   "outputs": [
    {
     "data": {
      "text/html": [
       "<div>\n",
       "<style scoped>\n",
       "    .dataframe tbody tr th:only-of-type {\n",
       "        vertical-align: middle;\n",
       "    }\n",
       "\n",
       "    .dataframe tbody tr th {\n",
       "        vertical-align: top;\n",
       "    }\n",
       "\n",
       "    .dataframe thead th {\n",
       "        text-align: right;\n",
       "    }\n",
       "</style>\n",
       "<table border=\"1\" class=\"dataframe\">\n",
       "  <thead>\n",
       "    <tr style=\"text-align: right;\">\n",
       "      <th></th>\n",
       "      <th>Date</th>\n",
       "      <th>Number_of_cases</th>\n",
       "    </tr>\n",
       "  </thead>\n",
       "  <tbody>\n",
       "    <tr>\n",
       "      <th>0</th>\n",
       "      <td>2020-01-23</td>\n",
       "      <td>0</td>\n",
       "    </tr>\n",
       "    <tr>\n",
       "      <th>1</th>\n",
       "      <td>2020-01-24</td>\n",
       "      <td>0</td>\n",
       "    </tr>\n",
       "    <tr>\n",
       "      <th>2</th>\n",
       "      <td>2020-01-25</td>\n",
       "      <td>0</td>\n",
       "    </tr>\n",
       "    <tr>\n",
       "      <th>3</th>\n",
       "      <td>2020-01-26</td>\n",
       "      <td>0</td>\n",
       "    </tr>\n",
       "    <tr>\n",
       "      <th>4</th>\n",
       "      <td>2020-01-27</td>\n",
       "      <td>0</td>\n",
       "    </tr>\n",
       "  </tbody>\n",
       "</table>\n",
       "</div>"
      ],
      "text/plain": [
       "        Date  Number_of_cases\n",
       "0 2020-01-23                0\n",
       "1 2020-01-24                0\n",
       "2 2020-01-25                0\n",
       "3 2020-01-26                0\n",
       "4 2020-01-27                0"
      ]
     },
     "execution_count": 182,
     "metadata": {},
     "output_type": "execute_result"
    }
   ],
   "source": [
    "Harris_cases.head()"
   ]
  },
  {
   "cell_type": "markdown",
   "id": "26d3d6c3",
   "metadata": {},
   "source": [
    "### Merge mask mandates to case data"
   ]
  },
  {
   "cell_type": "code",
   "execution_count": 183,
   "id": "ef6197ea",
   "metadata": {},
   "outputs": [
    {
     "data": {
      "text/html": [
       "<div>\n",
       "<style scoped>\n",
       "    .dataframe tbody tr th:only-of-type {\n",
       "        vertical-align: middle;\n",
       "    }\n",
       "\n",
       "    .dataframe tbody tr th {\n",
       "        vertical-align: top;\n",
       "    }\n",
       "\n",
       "    .dataframe thead th {\n",
       "        text-align: right;\n",
       "    }\n",
       "</style>\n",
       "<table border=\"1\" class=\"dataframe\">\n",
       "  <thead>\n",
       "    <tr style=\"text-align: right;\">\n",
       "      <th></th>\n",
       "      <th>Face_Masks_Required_in_Public</th>\n",
       "      <th>Date</th>\n",
       "    </tr>\n",
       "  </thead>\n",
       "  <tbody>\n",
       "    <tr>\n",
       "      <th>697718</th>\n",
       "      <td>Unknown</td>\n",
       "      <td>2020-04-10</td>\n",
       "    </tr>\n",
       "    <tr>\n",
       "      <th>697719</th>\n",
       "      <td>Unknown</td>\n",
       "      <td>2020-04-11</td>\n",
       "    </tr>\n",
       "    <tr>\n",
       "      <th>697720</th>\n",
       "      <td>Unknown</td>\n",
       "      <td>2020-04-12</td>\n",
       "    </tr>\n",
       "    <tr>\n",
       "      <th>697721</th>\n",
       "      <td>Unknown</td>\n",
       "      <td>2020-04-13</td>\n",
       "    </tr>\n",
       "    <tr>\n",
       "      <th>697722</th>\n",
       "      <td>Unknown</td>\n",
       "      <td>2020-04-14</td>\n",
       "    </tr>\n",
       "  </tbody>\n",
       "</table>\n",
       "</div>"
      ],
      "text/plain": [
       "       Face_Masks_Required_in_Public       Date\n",
       "697718                       Unknown 2020-04-10\n",
       "697719                       Unknown 2020-04-11\n",
       "697720                       Unknown 2020-04-12\n",
       "697721                       Unknown 2020-04-13\n",
       "697722                       Unknown 2020-04-14"
      ]
     },
     "execution_count": 183,
     "metadata": {},
     "output_type": "execute_result"
    }
   ],
   "source": [
    "mm_subset = Harris_mask_mandates[['date' , 'Face_Masks_Required_in_Public']]\n",
    "mm_subset[\"Date\"] = pd.to_datetime(mm_subset[\"date\"], format=\"%m/%d/%Y\")\n",
    "mm_subset.drop( columns= \"date\" , inplace = True)\n",
    "mm_subset.head()"
   ]
  },
  {
   "cell_type": "code",
   "execution_count": 184,
   "id": "372725ce",
   "metadata": {},
   "outputs": [],
   "source": [
    "df = Harris_cases.merge(mm_subset, on ='Date', how='left')"
   ]
  },
  {
   "cell_type": "code",
   "execution_count": 185,
   "id": "dd6c1f97",
   "metadata": {},
   "outputs": [
    {
     "data": {
      "text/plain": [
       "2020-01-23    1\n",
       "2021-12-04    1\n",
       "2021-11-21    1\n",
       "2021-11-22    1\n",
       "2021-11-23    1\n",
       "             ..\n",
       "2020-12-30    1\n",
       "2020-12-31    1\n",
       "2021-01-01    1\n",
       "2021-01-02    1\n",
       "2022-10-31    1\n",
       "Name: Date, Length: 1013, dtype: int64"
      ]
     },
     "execution_count": 185,
     "metadata": {},
     "output_type": "execute_result"
    }
   ],
   "source": [
    "df['Date'].value_counts()"
   ]
  },
  {
   "cell_type": "code",
   "execution_count": 186,
   "id": "e3f31c47",
   "metadata": {},
   "outputs": [],
   "source": [
    "unemp1[[\"Date\"]] = unemp1[[\"Date\"]].apply(pd.to_datetime)\n",
    "#pd.to_datetime(, format='%Y%m%d', errors='ignore')"
   ]
  },
  {
   "cell_type": "code",
   "execution_count": 187,
   "id": "a78db1ad",
   "metadata": {},
   "outputs": [],
   "source": [
    "# Filter data for specific weekday (tuesday)\n",
    "df['monthstart'] = df['Date'].dt.is_month_start\n",
    "filtered_df = df.loc[df['monthstart'] == True]"
   ]
  },
  {
   "cell_type": "code",
   "execution_count": 188,
   "id": "4e2502da",
   "metadata": {},
   "outputs": [],
   "source": [
    "df1 = filtered_df.merge(unemp1, on='Date', how='left')"
   ]
  },
  {
   "cell_type": "code",
   "execution_count": 189,
   "id": "abc3bd2f",
   "metadata": {},
   "outputs": [
    {
     "data": {
      "text/html": [
       "<div>\n",
       "<style scoped>\n",
       "    .dataframe tbody tr th:only-of-type {\n",
       "        vertical-align: middle;\n",
       "    }\n",
       "\n",
       "    .dataframe tbody tr th {\n",
       "        vertical-align: top;\n",
       "    }\n",
       "\n",
       "    .dataframe thead th {\n",
       "        text-align: right;\n",
       "    }\n",
       "</style>\n",
       "<table border=\"1\" class=\"dataframe\">\n",
       "  <thead>\n",
       "    <tr style=\"text-align: right;\">\n",
       "      <th></th>\n",
       "      <th>Date</th>\n",
       "      <th>Number_of_cases</th>\n",
       "      <th>Face_Masks_Required_in_Public</th>\n",
       "      <th>monthstart</th>\n",
       "      <th>UNRATE</th>\n",
       "    </tr>\n",
       "  </thead>\n",
       "  <tbody>\n",
       "    <tr>\n",
       "      <th>0</th>\n",
       "      <td>2020-02-01</td>\n",
       "      <td>0</td>\n",
       "      <td>NaN</td>\n",
       "      <td>True</td>\n",
       "      <td>3.5</td>\n",
       "    </tr>\n",
       "    <tr>\n",
       "      <th>1</th>\n",
       "      <td>2020-03-01</td>\n",
       "      <td>0</td>\n",
       "      <td>NaN</td>\n",
       "      <td>True</td>\n",
       "      <td>4.4</td>\n",
       "    </tr>\n",
       "    <tr>\n",
       "      <th>2</th>\n",
       "      <td>2020-04-01</td>\n",
       "      <td>1231</td>\n",
       "      <td>NaN</td>\n",
       "      <td>True</td>\n",
       "      <td>14.7</td>\n",
       "    </tr>\n",
       "    <tr>\n",
       "      <th>3</th>\n",
       "      <td>2020-05-01</td>\n",
       "      <td>8488</td>\n",
       "      <td>Unknown</td>\n",
       "      <td>True</td>\n",
       "      <td>13.2</td>\n",
       "    </tr>\n",
       "    <tr>\n",
       "      <th>4</th>\n",
       "      <td>2020-06-01</td>\n",
       "      <td>21012</td>\n",
       "      <td>Unknown</td>\n",
       "      <td>True</td>\n",
       "      <td>11.0</td>\n",
       "    </tr>\n",
       "  </tbody>\n",
       "</table>\n",
       "</div>"
      ],
      "text/plain": [
       "        Date  Number_of_cases Face_Masks_Required_in_Public  monthstart  \\\n",
       "0 2020-02-01                0                           NaN        True   \n",
       "1 2020-03-01                0                           NaN        True   \n",
       "2 2020-04-01             1231                           NaN        True   \n",
       "3 2020-05-01             8488                       Unknown        True   \n",
       "4 2020-06-01            21012                       Unknown        True   \n",
       "\n",
       "   UNRATE  \n",
       "0     3.5  \n",
       "1     4.4  \n",
       "2    14.7  \n",
       "3    13.2  \n",
       "4    11.0  "
      ]
     },
     "execution_count": 189,
     "metadata": {},
     "output_type": "execute_result"
    }
   ],
   "source": [
    "df1.head()"
   ]
  },
  {
   "cell_type": "code",
   "execution_count": 190,
   "id": "f44e6bfd",
   "metadata": {},
   "outputs": [
    {
     "data": {
      "text/html": [
       "<div>\n",
       "<style scoped>\n",
       "    .dataframe tbody tr th:only-of-type {\n",
       "        vertical-align: middle;\n",
       "    }\n",
       "\n",
       "    .dataframe tbody tr th {\n",
       "        vertical-align: top;\n",
       "    }\n",
       "\n",
       "    .dataframe thead th {\n",
       "        text-align: right;\n",
       "    }\n",
       "</style>\n",
       "<table border=\"1\" class=\"dataframe\">\n",
       "  <thead>\n",
       "    <tr style=\"text-align: right;\">\n",
       "      <th></th>\n",
       "      <th>Date</th>\n",
       "      <th>Number_of_cases</th>\n",
       "      <th>Face_Masks_Required_in_Public</th>\n",
       "      <th>monthstart</th>\n",
       "      <th>UNRATE</th>\n",
       "      <th>initial_claims</th>\n",
       "      <th>continued_claims</th>\n",
       "      <th>covered_employment</th>\n",
       "      <th>insured_unemployment_rate</th>\n",
       "    </tr>\n",
       "  </thead>\n",
       "  <tbody>\n",
       "    <tr>\n",
       "      <th>0</th>\n",
       "      <td>2020-02-01</td>\n",
       "      <td>0</td>\n",
       "      <td>NaN</td>\n",
       "      <td>True</td>\n",
       "      <td>3.5</td>\n",
       "      <td>NaN</td>\n",
       "      <td>NaN</td>\n",
       "      <td>NaN</td>\n",
       "      <td>NaN</td>\n",
       "    </tr>\n",
       "    <tr>\n",
       "      <th>1</th>\n",
       "      <td>2020-03-01</td>\n",
       "      <td>0</td>\n",
       "      <td>NaN</td>\n",
       "      <td>True</td>\n",
       "      <td>4.4</td>\n",
       "      <td>276185.0</td>\n",
       "      <td>144697.0</td>\n",
       "      <td>12236594.0</td>\n",
       "      <td>1.18</td>\n",
       "    </tr>\n",
       "    <tr>\n",
       "      <th>2</th>\n",
       "      <td>2020-03-01</td>\n",
       "      <td>0</td>\n",
       "      <td>NaN</td>\n",
       "      <td>True</td>\n",
       "      <td>4.4</td>\n",
       "      <td>155426.0</td>\n",
       "      <td>126427.0</td>\n",
       "      <td>12236594.0</td>\n",
       "      <td>1.03</td>\n",
       "    </tr>\n",
       "    <tr>\n",
       "      <th>3</th>\n",
       "      <td>2020-03-01</td>\n",
       "      <td>0</td>\n",
       "      <td>NaN</td>\n",
       "      <td>True</td>\n",
       "      <td>4.4</td>\n",
       "      <td>16176.0</td>\n",
       "      <td>127905.0</td>\n",
       "      <td>12236594.0</td>\n",
       "      <td>1.05</td>\n",
       "    </tr>\n",
       "    <tr>\n",
       "      <th>4</th>\n",
       "      <td>2020-03-01</td>\n",
       "      <td>0</td>\n",
       "      <td>NaN</td>\n",
       "      <td>True</td>\n",
       "      <td>4.4</td>\n",
       "      <td>14355.0</td>\n",
       "      <td>125252.0</td>\n",
       "      <td>12236594.0</td>\n",
       "      <td>1.02</td>\n",
       "    </tr>\n",
       "  </tbody>\n",
       "</table>\n",
       "</div>"
      ],
      "text/plain": [
       "        Date  Number_of_cases Face_Masks_Required_in_Public  monthstart  \\\n",
       "0 2020-02-01                0                           NaN        True   \n",
       "1 2020-03-01                0                           NaN        True   \n",
       "2 2020-03-01                0                           NaN        True   \n",
       "3 2020-03-01                0                           NaN        True   \n",
       "4 2020-03-01                0                           NaN        True   \n",
       "\n",
       "   UNRATE  initial_claims  continued_claims  covered_employment  \\\n",
       "0     3.5             NaN               NaN                 NaN   \n",
       "1     4.4        276185.0          144697.0          12236594.0   \n",
       "2     4.4        155426.0          126427.0          12236594.0   \n",
       "3     4.4         16176.0          127905.0          12236594.0   \n",
       "4     4.4         14355.0          125252.0          12236594.0   \n",
       "\n",
       "   insured_unemployment_rate  \n",
       "0                        NaN  \n",
       "1                       1.18  \n",
       "2                       1.03  \n",
       "3                       1.05  \n",
       "4                       1.02  "
      ]
     },
     "execution_count": 190,
     "metadata": {},
     "output_type": "execute_result"
    }
   ],
   "source": [
    "claims_df[[\"Date\"]] = claims_df[[\"Date\"]].apply(pd.to_datetime)\n",
    "df2 = df1.merge(claims_df, on='Date', how='left')\n",
    "df2.head()"
   ]
  },
  {
   "cell_type": "markdown",
   "id": "5aabc348",
   "metadata": {},
   "source": [
    "## Visual inspection : the number of covid cases over time with unemployment rate"
   ]
  },
  {
   "cell_type": "code",
   "execution_count": 191,
   "id": "ea0d3370",
   "metadata": {},
   "outputs": [],
   "source": [
    "df2 = df2.rename(columns={'UNRATE': 'Unemployment_Rate'})"
   ]
  },
  {
   "cell_type": "code",
   "execution_count": 192,
   "id": "3645f064",
   "metadata": {},
   "outputs": [
    {
     "name": "stderr",
     "output_type": "stream",
     "text": [
      "No handles with labels found to put in legend.\n",
      "findfont: Font family ['Roboto'] not found. Falling back to DejaVu Sans.\n",
      "findfont: Font family ['Roboto'] not found. Falling back to DejaVu Sans.\n"
     ]
    },
    {
     "data": {
      "image/png": "[encoded data removed]",
      "text/plain": [
       "<Figure size 1350x540 with 2 Axes>"
      ]
     },
     "metadata": {},
     "output_type": "display_data"
    }
   ],
   "source": [
    "figure(figsize=(15, 6), dpi=90)\n",
    "sns.set(context=\"paper\", font=\"Roboto\")\n",
    "\n",
    "sns.scatterplot(x = \"Date\", y = \"Number_of_cases\" , data = df2, hue='Face_Masks_Required_in_Public'   )\n",
    "plt.ylabel('Number of covid cases - blue, UI claims - yellow')\n",
    "sns.lineplot(x = \"Date\", y = \"initial_claims\", data= df2, color=\"y\")\n",
    "sns.lineplot(x = \"Date\", y = \"Unemployment_Rate\", data= df2, color=\"b\", ax = plt.twinx())\n",
    "\n",
    "\n",
    "dtFmt = mdates.DateFormatter('%Y-%b')\n",
    "plt.gca().xaxis.set_major_formatter(dtFmt) \n",
    "\n",
    "plt.legend()\n",
    "plt.gca().xaxis.set_major_locator(mdates.MonthLocator(interval=2))\n",
    "\n",
    "plt.xlabel('Date')\n",
    "\n",
    "plt.title('Covid cases, unemployment rate and UI claims - Harris County')\n",
    "plt.savefig('Covid cases, unemployment rate and UI claims - Harris County.jpeg')\n",
    "plt.show()"
   ]
  },
  {
   "cell_type": "markdown",
   "id": "99733888",
   "metadata": {},
   "source": [
    "We see that as the cumulative active cases rise, the unemployment rate peaks, and then gradually decreases. This can be attributed to the vaccination becoming available in Harris County, Texas in August 2021. \n",
    "The masking mandates, in addition to the welfare norms introduced my the government also impact unemployment and UI claims."
   ]
  },
  {
   "cell_type": "markdown",
   "id": "b92c5d9d",
   "metadata": {},
   "source": [
    "## We see the trends for monthly new cases instead of cumulative cases"
   ]
  },
  {
   "cell_type": "code",
   "execution_count": 196,
   "id": "52d69533",
   "metadata": {},
   "outputs": [
    {
     "data": {
      "image/png": "[encoded data removed]",
      "text/plain": [
       "<Figure size 1800x900 with 2 Axes>"
      ]
     },
     "metadata": {},
     "output_type": "display_data"
    }
   ],
   "source": [
    "figure(figsize=(20, 10), dpi=90)\n",
    "\n",
    "sns.lineplot(x = \"Date\", y = \"monthly_cases\", data= df5, color=\"b\")\n",
    "\n",
    "sns.lineplot(x = \"Date\", y = \"initial_claims\", data= df5, color=\"y\")\n",
    "sns.lineplot(x = \"Date\", y = \"UNRATE\", data= df5, color=\"r\",ax = plt.twinx())\n",
    "\n",
    "\n",
    "dtFmt = mdates.DateFormatter('%Y-%b')\n",
    "plt.gca().xaxis.set_major_formatter(dtFmt) \n",
    "\n",
    "plt.gca().xaxis.set_major_locator(mdates.MonthLocator(interval=2))\n",
    "\n",
    "\n",
    "plt.title('Number of monthly covid cases, Unemployment rate, and UI claims')\n",
    "plt.show()"
   ]
  },
  {
   "cell_type": "markdown",
   "id": "d157f138",
   "metadata": {},
   "source": [
    "There is no identifiable trend in the graph above."
   ]
  },
  {
   "cell_type": "markdown",
   "id": "a49457f3",
   "metadata": {},
   "source": [
    "## Calculate the number of daily cases from cumulative cases by subtracting the number of cases on the previous day."
   ]
  },
  {
   "cell_type": "code",
   "execution_count": 58,
   "id": "7333a677",
   "metadata": {},
   "outputs": [
    {
     "data": {
      "text/html": [
       "<div>\n",
       "<style scoped>\n",
       "    .dataframe tbody tr th:only-of-type {\n",
       "        vertical-align: middle;\n",
       "    }\n",
       "\n",
       "    .dataframe tbody tr th {\n",
       "        vertical-align: top;\n",
       "    }\n",
       "\n",
       "    .dataframe thead th {\n",
       "        text-align: right;\n",
       "    }\n",
       "</style>\n",
       "<table border=\"1\" class=\"dataframe\">\n",
       "  <thead>\n",
       "    <tr style=\"text-align: right;\">\n",
       "      <th></th>\n",
       "      <th>Date</th>\n",
       "      <th>Number_of_cases</th>\n",
       "      <th>Face_Masks_Required_in_Public</th>\n",
       "      <th>monthstart</th>\n",
       "      <th>UNRATE</th>\n",
       "      <th>Number_of_daily_cases</th>\n",
       "      <th>Population</th>\n",
       "      <th>Infection_rate</th>\n",
       "    </tr>\n",
       "  </thead>\n",
       "  <tbody>\n",
       "    <tr>\n",
       "      <th>0</th>\n",
       "      <td>2020-02-01</td>\n",
       "      <td>0</td>\n",
       "      <td>NaN</td>\n",
       "      <td>True</td>\n",
       "      <td>3.5</td>\n",
       "      <td>NaN</td>\n",
       "      <td>4728030</td>\n",
       "      <td>NaN</td>\n",
       "    </tr>\n",
       "    <tr>\n",
       "      <th>1</th>\n",
       "      <td>2020-03-01</td>\n",
       "      <td>0</td>\n",
       "      <td>NaN</td>\n",
       "      <td>True</td>\n",
       "      <td>4.4</td>\n",
       "      <td>0.0</td>\n",
       "      <td>4728030</td>\n",
       "      <td>0.000000</td>\n",
       "    </tr>\n",
       "    <tr>\n",
       "      <th>2</th>\n",
       "      <td>2020-04-01</td>\n",
       "      <td>1231</td>\n",
       "      <td>NaN</td>\n",
       "      <td>True</td>\n",
       "      <td>14.7</td>\n",
       "      <td>1231.0</td>\n",
       "      <td>4728030</td>\n",
       "      <td>0.000260</td>\n",
       "    </tr>\n",
       "    <tr>\n",
       "      <th>3</th>\n",
       "      <td>2020-05-01</td>\n",
       "      <td>8488</td>\n",
       "      <td>Unknown</td>\n",
       "      <td>True</td>\n",
       "      <td>13.2</td>\n",
       "      <td>7257.0</td>\n",
       "      <td>4728030</td>\n",
       "      <td>0.001535</td>\n",
       "    </tr>\n",
       "    <tr>\n",
       "      <th>4</th>\n",
       "      <td>2020-06-01</td>\n",
       "      <td>21012</td>\n",
       "      <td>Unknown</td>\n",
       "      <td>True</td>\n",
       "      <td>11.0</td>\n",
       "      <td>12524.0</td>\n",
       "      <td>4728030</td>\n",
       "      <td>0.002649</td>\n",
       "    </tr>\n",
       "  </tbody>\n",
       "</table>\n",
       "</div>"
      ],
      "text/plain": [
       "        Date  Number_of_cases Face_Masks_Required_in_Public  monthstart  \\\n",
       "0 2020-02-01                0                           NaN        True   \n",
       "1 2020-03-01                0                           NaN        True   \n",
       "2 2020-04-01             1231                           NaN        True   \n",
       "3 2020-05-01             8488                       Unknown        True   \n",
       "4 2020-06-01            21012                       Unknown        True   \n",
       "\n",
       "   UNRATE  Number_of_daily_cases  Population  Infection_rate  \n",
       "0     3.5                    NaN     4728030             NaN  \n",
       "1     4.4                    0.0     4728030        0.000000  \n",
       "2    14.7                 1231.0     4728030        0.000260  \n",
       "3    13.2                 7257.0     4728030        0.001535  \n",
       "4    11.0                12524.0     4728030        0.002649  "
      ]
     },
     "execution_count": 58,
     "metadata": {},
     "output_type": "execute_result"
    }
   ],
   "source": [
    "df1['Number_of_daily_cases'] = df1['Number_of_cases'] - df1.shift(1)['Number_of_cases']\n",
    "df1['Population'] = 4728030\n",
    "df1['Infection_rate'] = df1['Number_of_daily_cases']/df1['Population']\n",
    "df1.head()"
   ]
  },
  {
   "cell_type": "code",
   "execution_count": 60,
   "id": "7c92c356",
   "metadata": {},
   "outputs": [
    {
     "data": {
      "text/html": [
       "<div>\n",
       "<style scoped>\n",
       "    .dataframe tbody tr th:only-of-type {\n",
       "        vertical-align: middle;\n",
       "    }\n",
       "\n",
       "    .dataframe tbody tr th {\n",
       "        vertical-align: top;\n",
       "    }\n",
       "\n",
       "    .dataframe thead th {\n",
       "        text-align: right;\n",
       "    }\n",
       "</style>\n",
       "<table border=\"1\" class=\"dataframe\">\n",
       "  <thead>\n",
       "    <tr style=\"text-align: right;\">\n",
       "      <th></th>\n",
       "      <th>Date</th>\n",
       "      <th>monthly_cases</th>\n",
       "    </tr>\n",
       "  </thead>\n",
       "  <tbody>\n",
       "    <tr>\n",
       "      <th>0</th>\n",
       "      <td>2020-02-01</td>\n",
       "      <td>NaN</td>\n",
       "    </tr>\n",
       "    <tr>\n",
       "      <th>1</th>\n",
       "      <td>2020-03-01</td>\n",
       "      <td>0.0</td>\n",
       "    </tr>\n",
       "    <tr>\n",
       "      <th>2</th>\n",
       "      <td>2020-04-01</td>\n",
       "      <td>1231.0</td>\n",
       "    </tr>\n",
       "    <tr>\n",
       "      <th>3</th>\n",
       "      <td>2020-05-01</td>\n",
       "      <td>7257.0</td>\n",
       "    </tr>\n",
       "    <tr>\n",
       "      <th>4</th>\n",
       "      <td>2020-06-01</td>\n",
       "      <td>12524.0</td>\n",
       "    </tr>\n",
       "  </tbody>\n",
       "</table>\n",
       "</div>"
      ],
      "text/plain": [
       "        Date  monthly_cases\n",
       "0 2020-02-01            NaN\n",
       "1 2020-03-01            0.0\n",
       "2 2020-04-01         1231.0\n",
       "3 2020-05-01         7257.0\n",
       "4 2020-06-01        12524.0"
      ]
     },
     "execution_count": 60,
     "metadata": {},
     "output_type": "execute_result"
    }
   ],
   "source": [
    "df2 = df1.groupby(by='Date')['Number_of_daily_cases'].mean().reset_index()\n",
    "df2.columns = ['Date','monthly_cases']\n",
    "df2['Date'] = pd.to_datetime(df2['Date'])\n",
    "df2.head()"
   ]
  },
  {
   "cell_type": "code",
   "execution_count": 52,
   "id": "7d46c480",
   "metadata": {},
   "outputs": [
    {
     "data": {
      "text/html": [
       "<div>\n",
       "<style scoped>\n",
       "    .dataframe tbody tr th:only-of-type {\n",
       "        vertical-align: middle;\n",
       "    }\n",
       "\n",
       "    .dataframe tbody tr th {\n",
       "        vertical-align: top;\n",
       "    }\n",
       "\n",
       "    .dataframe thead th {\n",
       "        text-align: right;\n",
       "    }\n",
       "</style>\n",
       "<table border=\"1\" class=\"dataframe\">\n",
       "  <thead>\n",
       "    <tr style=\"text-align: right;\">\n",
       "      <th></th>\n",
       "      <th>Date</th>\n",
       "      <th>monthly_cases</th>\n",
       "      <th>UNRATE</th>\n",
       "      <th>initial_claims</th>\n",
       "      <th>continued_claims</th>\n",
       "      <th>covered_employment</th>\n",
       "      <th>insured_unemployment_rate</th>\n",
       "    </tr>\n",
       "  </thead>\n",
       "  <tbody>\n",
       "    <tr>\n",
       "      <th>0</th>\n",
       "      <td>2020-02-01</td>\n",
       "      <td>NaN</td>\n",
       "      <td>3.5</td>\n",
       "      <td>NaN</td>\n",
       "      <td>NaN</td>\n",
       "      <td>NaN</td>\n",
       "      <td>NaN</td>\n",
       "    </tr>\n",
       "    <tr>\n",
       "      <th>1</th>\n",
       "      <td>2020-03-01</td>\n",
       "      <td>0.0</td>\n",
       "      <td>4.4</td>\n",
       "      <td>276185.0</td>\n",
       "      <td>144697.0</td>\n",
       "      <td>12236594.0</td>\n",
       "      <td>1.18</td>\n",
       "    </tr>\n",
       "    <tr>\n",
       "      <th>2</th>\n",
       "      <td>2020-03-01</td>\n",
       "      <td>0.0</td>\n",
       "      <td>4.4</td>\n",
       "      <td>155426.0</td>\n",
       "      <td>126427.0</td>\n",
       "      <td>12236594.0</td>\n",
       "      <td>1.03</td>\n",
       "    </tr>\n",
       "    <tr>\n",
       "      <th>3</th>\n",
       "      <td>2020-03-01</td>\n",
       "      <td>0.0</td>\n",
       "      <td>4.4</td>\n",
       "      <td>16176.0</td>\n",
       "      <td>127905.0</td>\n",
       "      <td>12236594.0</td>\n",
       "      <td>1.05</td>\n",
       "    </tr>\n",
       "    <tr>\n",
       "      <th>4</th>\n",
       "      <td>2020-03-01</td>\n",
       "      <td>0.0</td>\n",
       "      <td>4.4</td>\n",
       "      <td>14355.0</td>\n",
       "      <td>125252.0</td>\n",
       "      <td>12236594.0</td>\n",
       "      <td>1.02</td>\n",
       "    </tr>\n",
       "  </tbody>\n",
       "</table>\n",
       "</div>"
      ],
      "text/plain": [
       "        Date  monthly_cases  UNRATE  initial_claims  continued_claims  \\\n",
       "0 2020-02-01            NaN     3.5             NaN               NaN   \n",
       "1 2020-03-01            0.0     4.4        276185.0          144697.0   \n",
       "2 2020-03-01            0.0     4.4        155426.0          126427.0   \n",
       "3 2020-03-01            0.0     4.4         16176.0          127905.0   \n",
       "4 2020-03-01            0.0     4.4         14355.0          125252.0   \n",
       "\n",
       "   covered_employment  insured_unemployment_rate  \n",
       "0                 NaN                        NaN  \n",
       "1          12236594.0                       1.18  \n",
       "2          12236594.0                       1.03  \n",
       "3          12236594.0                       1.05  \n",
       "4          12236594.0                       1.02  "
      ]
     },
     "execution_count": 52,
     "metadata": {},
     "output_type": "execute_result"
    }
   ],
   "source": [
    "df3 = df2.merge(unemp1, on='Date', how='left')\n",
    "df4 = df3.merge(claims_df, on='Date', how='left')\n",
    "df4.head()"
   ]
  },
  {
   "cell_type": "code",
   "execution_count": 53,
   "id": "13daf78e",
   "metadata": {},
   "outputs": [
    {
     "data": {
      "text/html": [
       "<div>\n",
       "<style scoped>\n",
       "    .dataframe tbody tr th:only-of-type {\n",
       "        vertical-align: middle;\n",
       "    }\n",
       "\n",
       "    .dataframe tbody tr th {\n",
       "        vertical-align: top;\n",
       "    }\n",
       "\n",
       "    .dataframe thead th {\n",
       "        text-align: right;\n",
       "    }\n",
       "</style>\n",
       "<table border=\"1\" class=\"dataframe\">\n",
       "  <thead>\n",
       "    <tr style=\"text-align: right;\">\n",
       "      <th></th>\n",
       "      <th>Date</th>\n",
       "      <th>monthly_cases</th>\n",
       "      <th>UNRATE</th>\n",
       "      <th>initial_claims</th>\n",
       "      <th>continued_claims</th>\n",
       "      <th>covered_employment</th>\n",
       "      <th>insured_unemployment_rate</th>\n",
       "      <th>Face_Masks_Required_in_Public</th>\n",
       "    </tr>\n",
       "  </thead>\n",
       "  <tbody>\n",
       "    <tr>\n",
       "      <th>0</th>\n",
       "      <td>2020-02-01</td>\n",
       "      <td>NaN</td>\n",
       "      <td>3.5</td>\n",
       "      <td>NaN</td>\n",
       "      <td>NaN</td>\n",
       "      <td>NaN</td>\n",
       "      <td>NaN</td>\n",
       "      <td>NaN</td>\n",
       "    </tr>\n",
       "    <tr>\n",
       "      <th>1</th>\n",
       "      <td>2020-03-01</td>\n",
       "      <td>0.0</td>\n",
       "      <td>4.4</td>\n",
       "      <td>276185.0</td>\n",
       "      <td>144697.0</td>\n",
       "      <td>12236594.0</td>\n",
       "      <td>1.18</td>\n",
       "      <td>NaN</td>\n",
       "    </tr>\n",
       "    <tr>\n",
       "      <th>2</th>\n",
       "      <td>2020-03-01</td>\n",
       "      <td>0.0</td>\n",
       "      <td>4.4</td>\n",
       "      <td>155426.0</td>\n",
       "      <td>126427.0</td>\n",
       "      <td>12236594.0</td>\n",
       "      <td>1.03</td>\n",
       "      <td>NaN</td>\n",
       "    </tr>\n",
       "    <tr>\n",
       "      <th>3</th>\n",
       "      <td>2020-03-01</td>\n",
       "      <td>0.0</td>\n",
       "      <td>4.4</td>\n",
       "      <td>16176.0</td>\n",
       "      <td>127905.0</td>\n",
       "      <td>12236594.0</td>\n",
       "      <td>1.05</td>\n",
       "      <td>NaN</td>\n",
       "    </tr>\n",
       "    <tr>\n",
       "      <th>4</th>\n",
       "      <td>2020-03-01</td>\n",
       "      <td>0.0</td>\n",
       "      <td>4.4</td>\n",
       "      <td>14355.0</td>\n",
       "      <td>125252.0</td>\n",
       "      <td>12236594.0</td>\n",
       "      <td>1.02</td>\n",
       "      <td>NaN</td>\n",
       "    </tr>\n",
       "  </tbody>\n",
       "</table>\n",
       "</div>"
      ],
      "text/plain": [
       "        Date  monthly_cases  UNRATE  initial_claims  continued_claims  \\\n",
       "0 2020-02-01            NaN     3.5             NaN               NaN   \n",
       "1 2020-03-01            0.0     4.4        276185.0          144697.0   \n",
       "2 2020-03-01            0.0     4.4        155426.0          126427.0   \n",
       "3 2020-03-01            0.0     4.4         16176.0          127905.0   \n",
       "4 2020-03-01            0.0     4.4         14355.0          125252.0   \n",
       "\n",
       "   covered_employment  insured_unemployment_rate Face_Masks_Required_in_Public  \n",
       "0                 NaN                        NaN                           NaN  \n",
       "1          12236594.0                       1.18                           NaN  \n",
       "2          12236594.0                       1.03                           NaN  \n",
       "3          12236594.0                       1.05                           NaN  \n",
       "4          12236594.0                       1.02                           NaN  "
      ]
     },
     "execution_count": 53,
     "metadata": {},
     "output_type": "execute_result"
    }
   ],
   "source": [
    "df5 = df4.merge(mm_subset, on ='Date', how='left')\n",
    "df5.head()"
   ]
  },
  {
   "cell_type": "code",
   "execution_count": 84,
   "id": "6d1f8570",
   "metadata": {},
   "outputs": [
    {
     "data": {
      "text/plain": [
       "1"
      ]
     },
     "execution_count": 84,
     "metadata": {},
     "output_type": "execute_result"
    }
   ],
   "source": [
    "# Checking for nulls\n",
    "df5['monthly_cases'].isnull().sum()"
   ]
  },
  {
   "cell_type": "code",
   "execution_count": 239,
   "id": "f34350ae",
   "metadata": {},
   "outputs": [
    {
     "data": {
      "text/plain": [
       "Yes    8\n",
       "No     5\n",
       "Name: Face_Masks_Required_in_Public, dtype: int64"
      ]
     },
     "execution_count": 239,
     "metadata": {},
     "output_type": "execute_result"
    }
   ],
   "source": [
    "df5[\"Face_Masks_Required_in_Public\"].value_counts()"
   ]
  },
  {
   "cell_type": "code",
   "execution_count": 85,
   "id": "7d85157c",
   "metadata": {},
   "outputs": [],
   "source": [
    "df5 = df5.fillna(0)"
   ]
  },
  {
   "cell_type": "markdown",
   "id": "ebd62e16",
   "metadata": {},
   "source": [
    "## The number of new confirmed cases per day"
   ]
  },
  {
   "cell_type": "code",
   "execution_count": 195,
   "id": "5eedf09a",
   "metadata": {},
   "outputs": [
    {
     "data": {
      "image/png": "[encoded data removed]",
      "text/plain": [
       "<Figure size 2000x1000 with 2 Axes>"
      ]
     },
     "metadata": {},
     "output_type": "display_data"
    }
   ],
   "source": [
    "figure(figsize=(20, 10), dpi=100)\n",
    "sns.lineplot(x = \"Date\", y = \"monthly_cases\", data=df5)\n",
    "# Major ticks every half year, minor ticks every month,\n",
    "sns.lineplot(x = \"Date\", y = \"UNRATE\", data= df5, color=\"r\", ax = plt.twinx())\n",
    "\n",
    "dtFmt = mdates.DateFormatter('%Y-%b')\n",
    "plt.gca().xaxis.set_major_formatter(dtFmt) \n",
    "\n",
    "plt.gca().xaxis.set_major_locator(mdates.MonthLocator(interval=2))\n",
    "\n",
    "plt.title('Monthly covid cases rate of Harris county')\n",
    "plt.savefig('Monthly cases of Harris county with unemployment rate.jpeg')\n",
    "\n",
    "plt.show()"
   ]
  },
  {
   "cell_type": "markdown",
   "id": "889d3fa9",
   "metadata": {},
   "source": [
    "We see that when the masking mandate was introduced there was a dip in the number of COVID cases, but then the cases started rising again. This decrease can also be attributed to vaccinations in addition to the masking policies."
   ]
  },
  {
   "cell_type": "markdown",
   "id": "ef4f2476",
   "metadata": {},
   "source": [
    "## Correlation Plots"
   ]
  },
  {
   "cell_type": "code",
   "execution_count": 259,
   "id": "5a478a5c",
   "metadata": {},
   "outputs": [
    {
     "data": {
      "text/plain": [
       "<AxesSubplot:xlabel='monthly_cases', ylabel='initial_claims'>"
      ]
     },
     "execution_count": 259,
     "metadata": {},
     "output_type": "execute_result"
    },
    {
     "data": {
      "image/png": "[encoded data removed]",
      "text/plain": [
       "<Figure size 432x288 with 1 Axes>"
      ]
     },
     "metadata": {
      "needs_background": "light"
     },
     "output_type": "display_data"
    }
   ],
   "source": [
    "sns.regplot(x=df5[\"monthly_cases\"], y=df5[\"initial_claims\"])"
   ]
  },
  {
   "cell_type": "markdown",
   "id": "e3d24ad6",
   "metadata": {},
   "source": [
    "Pearsons Correlation coefficient"
   ]
  },
  {
   "cell_type": "code",
   "execution_count": 142,
   "id": "7568e3fc",
   "metadata": {},
   "outputs": [
    {
     "name": "stdout",
     "output_type": "stream",
     "text": [
      "Pearsons correlation between the number of covid cases and UI claims: -0.327\n"
     ]
    }
   ],
   "source": [
    "df5['initial_claims'] = df5['initial_claims'].fillna(0)\n",
    "\n",
    "from scipy.stats import pearsonr\n",
    " \n",
    "# Import your data into Python\n",
    "\n",
    "# Convert dataframe into series\n",
    "list1 = df5['monthly_cases']\n",
    "list2 = df5['initial_claims']\n",
    " \n",
    "# Apply the pearsonr()\n",
    "corr, _ = pearsonr(list1, list2)\n",
    "print('Pearsons correlation between the number of covid cases and UI claims: %.3f' % corr)"
   ]
  },
  {
   "cell_type": "markdown",
   "id": "78abe47e",
   "metadata": {},
   "source": [
    "There is a weak but negative correlation. This can be attributed to the fact that as the number of cases increases, there are remedial policies brought about to tackle that problem."
   ]
  },
  {
   "cell_type": "code",
   "execution_count": 143,
   "id": "e7207d04",
   "metadata": {},
   "outputs": [
    {
     "data": {
      "text/plain": [
       "<AxesSubplot:xlabel='monthly_cases', ylabel='UNRATE'>"
      ]
     },
     "execution_count": 143,
     "metadata": {},
     "output_type": "execute_result"
    },
    {
     "data": {
      "image/png": "[encoded data removed]",
      "text/plain": [
       "<Figure size 432x288 with 1 Axes>"
      ]
     },
     "metadata": {
      "needs_background": "light"
     },
     "output_type": "display_data"
    }
   ],
   "source": [
    "sns.regplot(x=df5[\"monthly_cases\"], y=df5[\"UNRATE\"])"
   ]
  },
  {
   "cell_type": "markdown",
   "id": "fe16dbff",
   "metadata": {},
   "source": [
    "Pearsons Correlation coefficient"
   ]
  },
  {
   "cell_type": "code",
   "execution_count": 144,
   "id": "dbf0de06",
   "metadata": {},
   "outputs": [
    {
     "name": "stdout",
     "output_type": "stream",
     "text": [
      "Pearsons correlation between the number of covid cases and the unemployment rate: -0.232\n"
     ]
    }
   ],
   "source": [
    "df5['UNRATE'] = df5['UNRATE'].fillna(0)\n",
    "\n",
    "from scipy.stats import pearsonr\n",
    " \n",
    "# Import your data into Python\n",
    "\n",
    "# Convert dataframe into series\n",
    "list1 = df5['monthly_cases']\n",
    "list2 = df5['UNRATE']\n",
    " \n",
    "# Apply the pearsonr()\n",
    "corr, _ = pearsonr(list1, list2)\n",
    "print('Pearsons correlation between the number of covid cases and the unemployment rate: %.3f' % corr)"
   ]
  },
  {
   "cell_type": "markdown",
   "id": "ecac1e59",
   "metadata": {},
   "source": [
    "## Checking the assumptions of linearity\n",
    "\n",
    "Linear regression needs the relationship between the independent and dependent variables to be linear. Let's use a pair plot to check the relation of independent variables with the Sales variable"
   ]
  },
  {
   "cell_type": "code",
   "execution_count": 194,
   "id": "fdbcd266",
   "metadata": {},
   "outputs": [
    {
     "data": {
      "image/png": "[encoded data removed]",
      "text/plain": [
       "<Figure size 1411.2x504 with 4 Axes>"
      ]
     },
     "metadata": {},
     "output_type": "display_data"
    }
   ],
   "source": [
    "# visualize the relationship between the features and the response using scatterplots\n",
    "p = sns.pairplot(df5, x_vars=['monthly_cases','initial_claims','covered_employment', \"insured_unemployment_rate\"], y_vars='UNRATE', size=7, aspect=0.7)"
   ]
  },
  {
   "cell_type": "markdown",
   "id": "5b4faa92",
   "metadata": {},
   "source": [
    "Run regression to calculate residuals"
   ]
  },
  {
   "cell_type": "code",
   "execution_count": 97,
   "id": "94b5fded",
   "metadata": {},
   "outputs": [],
   "source": [
    "x = df1[[\"Number_of_cases\"]]\n",
    "y = df1[[\"UNRATE\"]]"
   ]
  },
  {
   "cell_type": "code",
   "execution_count": 98,
   "id": "20fbed21",
   "metadata": {},
   "outputs": [],
   "source": [
    "from sklearn.preprocessing import StandardScaler\n",
    "sc = StandardScaler()\n",
    "X = sc.fit_transform(x)"
   ]
  },
  {
   "cell_type": "code",
   "execution_count": 99,
   "id": "84ce1913",
   "metadata": {},
   "outputs": [],
   "source": [
    "from sklearn.model_selection import train_test_split\n",
    "X_train, X_test, y_train, y_test = train_test_split(X, y,random_state = 0,test_size=0.25)"
   ]
  },
  {
   "cell_type": "code",
   "execution_count": 100,
   "id": "b8a22832",
   "metadata": {},
   "outputs": [],
   "source": [
    "from sklearn.metrics import mean_absolute_error\n",
    "from sklearn.metrics import mean_squared_error\n",
    "from sklearn.metrics import r2_score\n",
    "from sklearn import linear_model\n",
    "\n",
    "regr = linear_model.LinearRegression()\n",
    "regr.fit(X_train,y_train)\n",
    "y_pred = regr.predict(X_test)"
   ]
  },
  {
   "cell_type": "code",
   "execution_count": 101,
   "id": "e1c870dd",
   "metadata": {},
   "outputs": [
    {
     "data": {
      "text/plain": [
       "LinearRegression()"
      ]
     },
     "execution_count": 101,
     "metadata": {},
     "output_type": "execute_result"
    }
   ],
   "source": [
    "regr"
   ]
  },
  {
   "cell_type": "code",
   "execution_count": 102,
   "id": "0472a3a4",
   "metadata": {},
   "outputs": [
    {
     "name": "stdout",
     "output_type": "stream",
     "text": [
      "R squared: 0.5214892590807094\n"
     ]
    }
   ],
   "source": [
    "print(\"R squared: {}\".format(r2_score(y_true=y_test,y_pred=y_pred)))"
   ]
  },
  {
   "cell_type": "code",
   "execution_count": 131,
   "id": "47dea0b6",
   "metadata": {},
   "outputs": [
    {
     "name": "stdout",
     "output_type": "stream",
     "text": [
      "R squared: 0.4819565478480524\n"
     ]
    }
   ],
   "source": [
    "y_pred1 = regr.predict(X_train)\n",
    "print(\"R squared: {}\".format(r2_score(y_true=y_train,y_pred=y_pred1)))"
   ]
  },
  {
   "cell_type": "markdown",
   "id": "2ee0e9a3",
   "metadata": {},
   "source": [
    "Our model explains only 50% of the variance of the target with the predictor. And this is expected. Because in the real world, our independence assumption does not hold and this is a very hard prediction to make."
   ]
  },
  {
   "cell_type": "code",
   "execution_count": 104,
   "id": "09be18c3",
   "metadata": {},
   "outputs": [],
   "source": [
    "y_test = np.ravel(y_test)\n",
    "y_pred = np.ravel(y_pred)"
   ]
  },
  {
   "cell_type": "code",
   "execution_count": 105,
   "id": "6742bd5f",
   "metadata": {},
   "outputs": [
    {
     "data": {
      "text/plain": [
       "(9,)"
      ]
     },
     "execution_count": 105,
     "metadata": {},
     "output_type": "execute_result"
    }
   ],
   "source": [
    "y_pred.shape"
   ]
  },
  {
   "cell_type": "code",
   "execution_count": 116,
   "id": "26a8f2f6",
   "metadata": {},
   "outputs": [
    {
     "data": {
      "image/png": "[encoded data removed]",
      "text/plain": [
       "<Figure size 360x360 with 1 Axes>"
      ]
     },
     "metadata": {
      "needs_background": "light"
     },
     "output_type": "display_data"
    }
   ],
   "source": [
    "plt.figure(figsize=(5,5))\n",
    "plt.scatter(y_test, y_pred, c='crimson')\n",
    "\n",
    "p1 = max(max(y_pred), max(y_test))\n",
    "p2 = min(min(y_pred), min(y_test))\n",
    "plt.plot([p1, p2], [p1, p2], 'b-')\n",
    "plt.xlabel('True Values', fontsize=12)\n",
    "plt.ylabel('Predictions', fontsize=12)\n",
    "plt.axis('equal')\n",
    "\n",
    "\n",
    "plt.title('Actual and Predicted values of unemployment Rate', fontsize=15)\n",
    "plt.show()"
   ]
  },
  {
   "cell_type": "markdown",
   "id": "932c8811",
   "metadata": {},
   "source": [
    "The model fits well on the test data as well."
   ]
  },
  {
   "cell_type": "markdown",
   "id": "428d3822",
   "metadata": {},
   "source": [
    "## 2. Mean of Residuals\n",
    "\n",
    "Residuals as we know are the differences between the true value and the predicted value. One of the assumptions of linear regression is that the mean of the residuals should be zero. So let's find out."
   ]
  },
  {
   "cell_type": "code",
   "execution_count": 132,
   "id": "c2778c26",
   "metadata": {},
   "outputs": [
    {
     "name": "stdout",
     "output_type": "stream",
     "text": [
      "Mean of Residuals -1.8503717077085943e-16\n"
     ]
    }
   ],
   "source": [
    "residuals = y_train.values-y_pred1\n",
    "mean_residuals = np.mean(residuals)\n",
    "print(\"Mean of Residuals {}\".format(mean_residuals))"
   ]
  },
  {
   "cell_type": "markdown",
   "id": "59ff6e94",
   "metadata": {},
   "source": [
    "Very close to zero so all good here."
   ]
  },
  {
   "cell_type": "markdown",
   "id": "cd12090e",
   "metadata": {},
   "source": [
    "## 3. Check for Homoscedasticity\n",
    "\n",
    "Homoscedasticity means that the residuals have equal or almost equal variance across the regression line. By plotting the error terms with predicted terms we can check that there should not be any pattern in the error terms."
   ]
  },
  {
   "cell_type": "code",
   "execution_count": 136,
   "id": "a4836580",
   "metadata": {},
   "outputs": [
    {
     "data": {
      "text/plain": [
       "(24,)"
      ]
     },
     "execution_count": 136,
     "metadata": {},
     "output_type": "execute_result"
    }
   ],
   "source": [
    "type(residuals)\n",
    "residuals = np.ravel(residuals)\n",
    "residuals.shape"
   ]
  },
  {
   "cell_type": "code",
   "execution_count": 137,
   "id": "b84f8d9f",
   "metadata": {},
   "outputs": [
    {
     "data": {
      "text/plain": [
       "(24,)"
      ]
     },
     "execution_count": 137,
     "metadata": {},
     "output_type": "execute_result"
    }
   ],
   "source": [
    "y_pred1 = np.ravel(y_pred1)\n",
    "y_pred1.shape"
   ]
  },
  {
   "cell_type": "code",
   "execution_count": 199,
   "id": "247aae19",
   "metadata": {},
   "outputs": [
    {
     "data": {
      "image/png": "[encoded data removed]",
      "text/plain": [
       "<Figure size 432x288 with 1 Axes>"
      ]
     },
     "metadata": {},
     "output_type": "display_data"
    }
   ],
   "source": [
    "p = sns.scatterplot(y_pred1,residuals)\n",
    "\n",
    "plt.xlabel('y_pred/predicted values')\n",
    "plt.ylabel('Residuals')\n",
    "plt.ylim(-10,10)\n",
    "plt.xlim(0,26)\n",
    "p = sns.lineplot([0,26],[0,0],color='blue')\n",
    "\n",
    "p = plt.title('Residuals vs fitted values plot for homoscedasticity check')"
   ]
  },
  {
   "cell_type": "code",
   "execution_count": 139,
   "id": "bc2af324",
   "metadata": {},
   "outputs": [
    {
     "data": {
      "text/plain": [
       "[('F statistic', 2.753919977075056), ('p-value', 0.053723130052486676)]"
      ]
     },
     "execution_count": 139,
     "metadata": {},
     "output_type": "execute_result"
    }
   ],
   "source": [
    "import statsmodels.stats.api as sms\n",
    "from statsmodels.compat import \n",
    "name = ['F statistic', 'p-value']\n",
    "test = sms.het_goldfeldquandt(residuals, X_train)\n",
    "lzip(name, test)"
   ]
  },
  {
   "cell_type": "markdown",
   "id": "a2955e46",
   "metadata": {},
   "source": [
    "# 4. Check for Normality of error terms/residuals"
   ]
  },
  {
   "cell_type": "code",
   "execution_count": 200,
   "id": "b7858a78",
   "metadata": {},
   "outputs": [
    {
     "data": {
      "image/png": "[encoded data removed]",
      "text/plain": [
       "<Figure size 432x288 with 1 Axes>"
      ]
     },
     "metadata": {},
     "output_type": "display_data"
    }
   ],
   "source": [
    "p = sns.distplot(residuals,kde=True)\n",
    "p = plt.title('Normality of error terms/residuals')"
   ]
  },
  {
   "cell_type": "markdown",
   "id": "0f3c3d8f",
   "metadata": {},
   "source": [
    "The residual terms look very symmetrical and kind of normally distributed. "
   ]
  },
  {
   "cell_type": "markdown",
   "id": "bb1adf3f",
   "metadata": {},
   "source": [
    "#### The assumptions of linearity are satisfied. So we move on to checking of the regression coefficient is significant"
   ]
  },
  {
   "cell_type": "markdown",
   "id": "2eec16a9",
   "metadata": {},
   "source": [
    "## t test for significance of the regression coefficient\n",
    "\n",
    "The beta coefficient tells us the unit change in the outcome variable for every 1 unit if change in the independent variable. The t-test assesses whether the beta coefficient is significantly different from zero"
   ]
  },
  {
   "cell_type": "code",
   "execution_count": 148,
   "id": "5bcf9965",
   "metadata": {},
   "outputs": [
    {
     "name": "stdout",
     "output_type": "stream",
     "text": [
      "                            OLS Regression Results                            \n",
      "==============================================================================\n",
      "Dep. Variable:                 UNRATE   R-squared:                       0.482\n",
      "Model:                            OLS   Adj. R-squared:                  0.458\n",
      "Method:                 Least Squares   F-statistic:                     20.47\n",
      "Date:                Mon, 12 Dec 2022   Prob (F-statistic):           0.000168\n",
      "Time:                        09:15:56   Log-Likelihood:                -49.068\n",
      "No. Observations:                  24   AIC:                             102.1\n",
      "Df Residuals:                      22   BIC:                             104.5\n",
      "Df Model:                           1                                         \n",
      "Covariance Type:            nonrobust                                         \n",
      "==============================================================================\n",
      "                 coef    std err          t      P>|t|      [0.025      0.975]\n",
      "------------------------------------------------------------------------------\n",
      "const          5.7615      0.399     14.448      0.000       4.935       6.589\n",
      "x1            -1.7254      0.381     -4.524      0.000      -2.516      -0.934\n",
      "==============================================================================\n",
      "Omnibus:                        4.988   Durbin-Watson:                   2.086\n",
      "Prob(Omnibus):                  0.083   Jarque-Bera (JB):                4.073\n",
      "Skew:                           0.229   Prob(JB):                        0.131\n",
      "Kurtosis:                       4.965   Cond. No.                         1.06\n",
      "==============================================================================\n",
      "\n",
      "Notes:\n",
      "[1] Standard Errors assume that the covariance matrix of the errors is correctly specified.\n"
     ]
    }
   ],
   "source": [
    "import statsmodels.api as sm\n",
    "from scipy import stats\n",
    "\n",
    "covid_cases = sm.add_constant(X_train)\n",
    "est = sm.OLS(y_train, covid_cases)\n",
    "est2 = est.fit()\n",
    "print(est2.summary())"
   ]
  },
  {
   "cell_type": "code",
   "execution_count": 197,
   "id": "2acf90e2",
   "metadata": {},
   "outputs": [],
   "source": [
    "#Output intermediate dataset \n",
    "df5.to_csv(\"Intermediate_data.csv\")"
   ]
  }
 ],
 "metadata": {
  "kernelspec": {
   "display_name": "Python 3",
   "language": "python",
   "name": "python3"
  },
  "language_info": {
   "codemirror_mode": {
    "name": "ipython",
    "version": 3
   },
   "file_extension": ".py",
   "mimetype": "text/x-python",
   "name": "python",
   "nbconvert_exporter": "python",
   "pygments_lexer": "ipython3",
   "version": "3.8.8"
  }
 },
 "nbformat": 4,
 "nbformat_minor": 5
}
